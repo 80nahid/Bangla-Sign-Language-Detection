{
 "cells": [
  {
   "cell_type": "code",
   "execution_count": 2,
   "id": "cf1edf05",
   "metadata": {},
   "outputs": [
    {
     "name": "stdout",
     "output_type": "stream",
     "text": [
      "{'0': 0, '1': 1, '2': 2, '3': 3, '4': 4, '5': 5, '6': 6, '7': 7, '8': 8, '9': 9}\n",
      "['0', '1', '2', '3', '4', '5', '6', '7', '8', '9']\n",
      "[0, 1, 2, 3, 4, 5, 6, 7, 8, 9]\n"
     ]
    }
   ],
   "source": [
    "import  cv2,os\n",
    "from PIL import Image \n",
    "from PIL import Image, ImageOps \n",
    "data_path='E:/project/jahid/our_final_project/digit/dataset_jahid'\n",
    "categories=os.listdir(data_path)\n",
    "labels=[i for i in range(len(categories))]\n",
    "\n",
    "label_dict=dict(zip(categories,labels))\n",
    "\n",
    "print(label_dict)\n",
    "print(categories)\n",
    "print(labels)"
   ]
  },
  {
   "cell_type": "code",
   "execution_count": 105,
   "id": "33164e2f",
   "metadata": {},
   "outputs": [],
   "source": [
    "import numpy as np\n",
    "import cv2\n",
    "import os\n",
    "from sklearn.cluster import KMeans\n",
    "from scipy.spatial import distance\n",
    "from sklearn.cluster import MiniBatchKMeans\n",
    "from sklearn.svm import SVC\n",
    "import sklearn.metrics as skmetrics\n",
    "import random\n",
    "import pickle\n",
    "import matplotlib.pyplot as plt\n",
    "from PIL import Image\n",
    "import glob\n",
    "from PIL import ImageTk, Image\n",
    "from PIL import Image, ImageEnhance\n",
    "from PIL import Image, ImageFilter \n",
    "from PIL import Image, ImageOps"
   ]
  },
  {
   "cell_type": "code",
   "execution_count": 106,
   "id": "7f57bcb5",
   "metadata": {},
   "outputs": [],
   "source": [
    "import numpy as np \n",
    "import pandas as pd \n",
    "import matplotlib.pyplot as plt\n",
    "import cv2\n",
    "import tensorflow as tf\n",
    "from PIL import Image\n",
    "import os\n",
    "#os.chdir('D:/Traffic_Sign_Recognition')\n",
    "from sklearn.model_selection import train_test_split\n",
    "from keras.utils import to_categorical\n",
    "from keras.models import Sequential, load_model\n",
    "from keras.layers import Conv2D, MaxPool2D, Dense, Flatten, Dropout"
   ]
  },
  {
   "cell_type": "code",
   "execution_count": 107,
   "id": "3480754a",
   "metadata": {},
   "outputs": [],
   "source": [
    "img_size=128\n",
    "data=[]\n",
    "target=[]\n",
    "\n",
    "\n",
    "for category in categories:\n",
    "    folder_path=os.path.join(data_path,category)\n",
    "    img_names=os.listdir(folder_path)\n",
    "        \n",
    "    for img_name in img_names:\n",
    "        img_path=os.path.join(folder_path,img_name)\n",
    "        img=cv2.imread(img_path)\n",
    "\n",
    "        try:\n",
    "            gray=cv2.cvtColor(img,cv2.COLOR_BGR2GRAY) \n",
    "            ret,gray=cv2.threshold(gray,120,255,cv2.THRESH_BINARY)\n",
    "            resized=cv2.resize(gray,(128,128))\n",
    "            #resizing the gray scale into 100x100, since we need a fixed common size for all the images in the dataset\n",
    "            data.append(resized)\n",
    "            target.append(label_dict[category])\n",
    "            #appending the image and the label(categorized) into the list (dataset)\n",
    "\n",
    "        except Exception as e:\n",
    "            print('Exception:',e)\n",
    "            #if any exception rasied, the exception will be printed here. And pass to the next image"
   ]
  },
  {
   "cell_type": "code",
   "execution_count": 108,
   "id": "7a43f977",
   "metadata": {},
   "outputs": [],
   "source": [
    "import numpy as np\n",
    "\n",
    "data=np.array(data)/255.0\n",
    "data=np.reshape(data,(data.shape[0],img_size,img_size,1))\n",
    "target=np.array(target)\n",
    "\n",
    "from keras.utils import np_utils\n",
    "\n",
    "new_target=np_utils.to_categorical(target)"
   ]
  },
  {
   "cell_type": "code",
   "execution_count": 109,
   "id": "4d069609",
   "metadata": {},
   "outputs": [],
   "source": [
    "np.save('data',data)\n",
    "np.save('target',new_target)"
   ]
  },
  {
   "cell_type": "code",
   "execution_count": 110,
   "id": "378f7db4",
   "metadata": {},
   "outputs": [
    {
     "name": "stdout",
     "output_type": "stream",
     "text": [
      "(1629, 128, 128, 1) (1629,)\n"
     ]
    }
   ],
   "source": [
    "print(data.shape, target.shape)"
   ]
  },
  {
   "cell_type": "code",
   "execution_count": null,
   "id": "7cc34860",
   "metadata": {},
   "outputs": [],
   "source": []
  },
  {
   "cell_type": "code",
   "execution_count": 3,
   "id": "30b1e6c3",
   "metadata": {},
   "outputs": [],
   "source": [
    "import numpy as np\n",
    "\n",
    "data=np.load('data.npy')\n",
    "target=np.load('target.npy')"
   ]
  },
  {
   "cell_type": "code",
   "execution_count": 5,
   "id": "9ecdceca",
   "metadata": {},
   "outputs": [],
   "source": [
    "import numpy as np \n",
    "import pandas as pd \n",
    "import matplotlib.pyplot as plt\n",
    "import cv2\n",
    "import tensorflow as tf\n",
    "from PIL import Image\n",
    "import os\n",
    "#os.chdir('D:/Traffic_Sign_Recognition')\n",
    "from sklearn.model_selection import train_test_split\n",
    "from keras.utils import to_categorical\n",
    "from keras.models import Sequential, load_model\n",
    "from keras.layers import Conv2D, MaxPool2D, Dense, Flatten, Dropout"
   ]
  },
  {
   "cell_type": "code",
   "execution_count": 6,
   "id": "9e7ebd06",
   "metadata": {},
   "outputs": [
    {
     "data": {
      "text/plain": [
       "<matplotlib.image.AxesImage at 0x1664cc5e160>"
      ]
     },
     "execution_count": 6,
     "metadata": {},
     "output_type": "execute_result"
    },
    {
     "data": {
      "image/png": "[encoded data removed]",
      "text/plain": [
       "<Figure size 432x288 with 1 Axes>"
      ]
     },
     "metadata": {
      "needs_background": "light"
     },
     "output_type": "display_data"
    }
   ],
   "source": [
    "plt.imshow(data[2])"
   ]
  },
  {
   "cell_type": "code",
   "execution_count": 7,
   "id": "e3593912",
   "metadata": {},
   "outputs": [
    {
     "name": "stdout",
     "output_type": "stream",
     "text": [
      "[1. 0. 0. 0. 0. 0. 0. 0. 0. 0.]\n"
     ]
    }
   ],
   "source": [
    "print(target[2])"
   ]
  },
  {
   "cell_type": "code",
   "execution_count": 8,
   "id": "9a927354",
   "metadata": {},
   "outputs": [],
   "source": [
    "X_train, X_test, y_train, y_test = train_test_split(data, target, test_size=0.2, random_state=0)"
   ]
  },
  {
   "cell_type": "code",
   "execution_count": 9,
   "id": "ceea972f",
   "metadata": {},
   "outputs": [
    {
     "name": "stdout",
     "output_type": "stream",
     "text": [
      "(1303, 128, 128, 1) (326, 128, 128, 1) (1303, 10) (326, 10)\n"
     ]
    }
   ],
   "source": [
    "print(X_train.shape, X_test.shape, y_train.shape, y_test.shape)"
   ]
  },
  {
   "cell_type": "code",
   "execution_count": 117,
   "id": "e518487d",
   "metadata": {},
   "outputs": [
    {
     "data": {
      "text/plain": [
       "<matplotlib.image.AxesImage at 0x1fa40f5d9a0>"
      ]
     },
     "execution_count": 117,
     "metadata": {},
     "output_type": "execute_result"
    },
    {
     "data": {
      "image/png": "[encoded data removed]",
      "text/plain": [
       "<Figure size 432x288 with 1 Axes>"
      ]
     },
     "metadata": {
      "needs_background": "light"
     },
     "output_type": "display_data"
    }
   ],
   "source": [
    "plt.imshow(X_train[0])"
   ]
  },
  {
   "cell_type": "code",
   "execution_count": 118,
   "id": "8c14afb1",
   "metadata": {},
   "outputs": [
    {
     "name": "stdout",
     "output_type": "stream",
     "text": [
      "[0. 0. 0. 0. 0. 0. 0. 1. 0. 0.]\n"
     ]
    }
   ],
   "source": [
    "print(y_train[0])"
   ]
  },
  {
   "cell_type": "code",
   "execution_count": 119,
   "id": "a37c62f5",
   "metadata": {},
   "outputs": [
    {
     "name": "stdout",
     "output_type": "stream",
     "text": [
      "[[[1.]\n",
      "  [1.]\n",
      "  [1.]\n",
      "  ...\n",
      "  [1.]\n",
      "  [1.]\n",
      "  [1.]]\n",
      "\n",
      " [[1.]\n",
      "  [1.]\n",
      "  [1.]\n",
      "  ...\n",
      "  [1.]\n",
      "  [1.]\n",
      "  [1.]]\n",
      "\n",
      " [[1.]\n",
      "  [1.]\n",
      "  [1.]\n",
      "  ...\n",
      "  [1.]\n",
      "  [1.]\n",
      "  [1.]]\n",
      "\n",
      " ...\n",
      "\n",
      " [[1.]\n",
      "  [1.]\n",
      "  [1.]\n",
      "  ...\n",
      "  [1.]\n",
      "  [1.]\n",
      "  [1.]]\n",
      "\n",
      " [[1.]\n",
      "  [1.]\n",
      "  [1.]\n",
      "  ...\n",
      "  [0.]\n",
      "  [1.]\n",
      "  [1.]]\n",
      "\n",
      " [[1.]\n",
      "  [1.]\n",
      "  [1.]\n",
      "  ...\n",
      "  [0.]\n",
      "  [1.]\n",
      "  [1.]]]\n"
     ]
    }
   ],
   "source": [
    "print(X_train[0])"
   ]
  },
  {
   "cell_type": "code",
   "execution_count": 120,
   "id": "70555cb2",
   "metadata": {},
   "outputs": [],
   "source": [
    "feature_extractor = tf.keras.models.Sequential()\n",
    "\n",
    "feature_extractor.add( tf.keras.layers.Conv2D(filters=16,padding=\"same\",kernel_size=3, activation='relu', strides=2, input_shape=X_train.shape[1:] ))\n",
    "feature_extractor.add( tf.keras.layers.MaxPool2D(pool_size=2, strides=2 ))\n",
    "\n",
    "\n",
    "feature_extractor.add( tf.keras.layers.Conv2D(filters=32,padding='same',kernel_size=3, activation='relu' ))\n",
    "feature_extractor.add( tf.keras.layers.MaxPool2D(pool_size=2, strides=2 ))\n",
    "\n",
    "feature_extractor.add( tf.keras.layers.Conv2D(filters=64,padding='same',kernel_size=3, activation='relu' ))\n",
    "feature_extractor.add( tf.keras.layers.MaxPool2D(pool_size=2, strides=2 ))\n",
    "\n",
    "feature_extractor.add( tf.keras.layers.Conv2D(filters=128,padding='same',kernel_size=3, activation='relu' ))\n",
    "feature_extractor.add( tf.keras.layers.MaxPool2D(pool_size=2, strides=2 ))\n",
    "feature_extractor.add(Dropout(rate=0.25))\n",
    "feature_extractor.add( tf.keras.layers.Flatten())\n",
    "feature_extractor.add(Dropout(rate=0.50))\n",
    "feature_extractor.add( tf.keras.layers.Dense(units=256, activation='relu' ))\n",
    "feature_extractor.add( tf.keras.layers.Dense(units=128, activation='relu' ))\n",
    "feature_extractor.add(tf.keras.layers.Dense(units=10, activation='softmax' ))"
   ]
  },
  {
   "cell_type": "code",
   "execution_count": 121,
   "id": "ee6eba5d",
   "metadata": {},
   "outputs": [],
   "source": [
    "feature_extractor.compile(optimizer='adam',\n",
    "                  loss = 'categorical_crossentropy', metrics = ['accuracy'])"
   ]
  },
  {
   "cell_type": "code",
   "execution_count": 122,
   "id": "be6dac26",
   "metadata": {},
   "outputs": [
    {
     "name": "stdout",
     "output_type": "stream",
     "text": [
      "Epoch 1/20\n",
      "41/41 [==============================] - 5s 114ms/step - loss: 2.2920 - accuracy: 0.1190 - val_loss: 2.1301 - val_accuracy: 0.1840\n",
      "Epoch 2/20\n",
      "41/41 [==============================] - 4s 109ms/step - loss: 1.9223 - accuracy: 0.2824 - val_loss: 1.7482 - val_accuracy: 0.3650\n",
      "Epoch 3/20\n",
      "41/41 [==============================] - 4s 91ms/step - loss: 1.5812 - accuracy: 0.4160 - val_loss: 1.4146 - val_accuracy: 0.4693\n",
      "Epoch 4/20\n",
      "41/41 [==============================] - 4s 87ms/step - loss: 1.2908 - accuracy: 0.5219 - val_loss: 1.1573 - val_accuracy: 0.5736\n",
      "Epoch 5/20\n",
      "41/41 [==============================] - 4s 88ms/step - loss: 1.0683 - accuracy: 0.6071 - val_loss: 0.9536 - val_accuracy: 0.7086\n",
      "Epoch 6/20\n",
      "41/41 [==============================] - 4s 88ms/step - loss: 0.8719 - accuracy: 0.6876 - val_loss: 0.8558 - val_accuracy: 0.7362\n",
      "Epoch 7/20\n",
      "41/41 [==============================] - 4s 88ms/step - loss: 0.7327 - accuracy: 0.7452 - val_loss: 0.8063 - val_accuracy: 0.7239\n",
      "Epoch 8/20\n",
      "41/41 [==============================] - 4s 89ms/step - loss: 0.6164 - accuracy: 0.7790 - val_loss: 0.6339 - val_accuracy: 0.7791\n",
      "Epoch 9/20\n",
      "41/41 [==============================] - 4s 87ms/step - loss: 0.4656 - accuracy: 0.8327 - val_loss: 0.5517 - val_accuracy: 0.8313\n",
      "Epoch 10/20\n",
      "41/41 [==============================] - 4s 91ms/step - loss: 0.3933 - accuracy: 0.8603 - val_loss: 0.5027 - val_accuracy: 0.8190\n",
      "Epoch 11/20\n",
      "41/41 [==============================] - 4s 91ms/step - loss: 0.3288 - accuracy: 0.8856 - val_loss: 0.4416 - val_accuracy: 0.8896\n",
      "Epoch 12/20\n",
      "41/41 [==============================] - 4s 93ms/step - loss: 0.2730 - accuracy: 0.9018 - val_loss: 0.4336 - val_accuracy: 0.8528\n",
      "Epoch 13/20\n",
      "41/41 [==============================] - 4s 91ms/step - loss: 0.2638 - accuracy: 0.9094 - val_loss: 0.3469 - val_accuracy: 0.8896\n",
      "Epoch 14/20\n",
      "41/41 [==============================] - 4s 91ms/step - loss: 0.1980 - accuracy: 0.9225 - val_loss: 0.3163 - val_accuracy: 0.9172\n",
      "Epoch 15/20\n",
      "41/41 [==============================] - 4s 92ms/step - loss: 0.1568 - accuracy: 0.9440 - val_loss: 0.3920 - val_accuracy: 0.9049\n",
      "Epoch 16/20\n",
      "41/41 [==============================] - 4s 93ms/step - loss: 0.2106 - accuracy: 0.9240 - val_loss: 0.2901 - val_accuracy: 0.9110\n",
      "Epoch 17/20\n",
      "41/41 [==============================] - 4s 94ms/step - loss: 0.1321 - accuracy: 0.9524 - val_loss: 0.2896 - val_accuracy: 0.9233\n",
      "Epoch 18/20\n",
      "41/41 [==============================] - 4s 93ms/step - loss: 0.0975 - accuracy: 0.9616 - val_loss: 0.3840 - val_accuracy: 0.9202\n",
      "Epoch 19/20\n",
      "41/41 [==============================] - 4s 91ms/step - loss: 0.1070 - accuracy: 0.9555 - val_loss: 0.2802 - val_accuracy: 0.9294\n",
      "Epoch 20/20\n",
      "41/41 [==============================] - 4s 93ms/step - loss: 0.0910 - accuracy: 0.9685 - val_loss: 0.3046 - val_accuracy: 0.9479\n"
     ]
    }
   ],
   "source": [
    "#Train the CNN model\n",
    "history = feature_extractor.fit(X_train, y_train, epochs=20, validation_data=(X_test, y_test))"
   ]
  },
  {
   "cell_type": "code",
   "execution_count": 123,
   "id": "15bfae3f",
   "metadata": {},
   "outputs": [
    {
     "data": {
      "image/png": "[encoded data removed]",
      "text/plain": [
       "<Figure size 432x288 with 1 Axes>"
      ]
     },
     "metadata": {
      "needs_background": "light"
     },
     "output_type": "display_data"
    },
    {
     "data": {
      "image/png": "[encoded data removed]",
      "text/plain": [
       "<Figure size 432x288 with 1 Axes>"
      ]
     },
     "metadata": {
      "needs_background": "light"
     },
     "output_type": "display_data"
    }
   ],
   "source": [
    "import matplotlib.pyplot as plt\n",
    "\n",
    "plt.figure(0)\n",
    "plt.plot(history.history['accuracy'], label='training accuracy')\n",
    "plt.plot(history.history['val_accuracy'], label='val accuracy')\n",
    "plt.title('Accuracy')\n",
    "plt.xlabel('epochs')\n",
    "plt.ylabel('accuracy')\n",
    "plt.legend()\n",
    "plt.show()\n",
    "\n",
    "\n",
    "plt.plot(history.history['loss'], label='training loss')\n",
    "plt.plot(history.history['val_loss'], label='val loss')\n",
    "plt.title('Loss')\n",
    "plt.xlabel('epochs')\n",
    "plt.ylabel('loss')\n",
    "plt.legend()\n",
    "plt.show()"
   ]
  },
  {
   "cell_type": "code",
   "execution_count": 171,
   "id": "162cedd5",
   "metadata": {},
   "outputs": [],
   "source": [
    "predictions=feature_extractor.predict(X_test)"
   ]
  },
  {
   "cell_type": "code",
   "execution_count": 172,
   "id": "478bad13",
   "metadata": {},
   "outputs": [
    {
     "name": "stdout",
     "output_type": "stream",
     "text": [
      "[[3.02041094e-08 8.15306194e-05 3.32521362e-04 ... 9.95260775e-01\n",
      "  4.16250946e-03 4.17220730e-10]\n",
      " [2.70657392e-06 9.93008165e-09 1.05088184e-05 ... 5.44248288e-03\n",
      "  6.42395811e-03 3.96169952e-07]\n",
      " [4.66960526e-10 5.97686300e-16 5.79511425e-06 ... 4.75311630e-12\n",
      "  1.04513596e-07 2.76256797e-14]\n",
      " ...\n",
      " [2.42939732e-05 1.11963265e-08 8.80988682e-06 ... 1.20850664e-03\n",
      "  9.95966554e-01 1.13161471e-08]\n",
      " [1.94091119e-12 2.81127316e-26 1.83107728e-17 ... 6.39881925e-10\n",
      "  2.26715129e-05 2.16839693e-15]\n",
      " [8.05209854e-09 3.30848904e-10 1.62420452e-10 ... 1.20326540e-08\n",
      "  6.46170903e-08 1.39063570e-08]]\n"
     ]
    }
   ],
   "source": [
    "print(predictions)"
   ]
  },
  {
   "cell_type": "code",
   "execution_count": 173,
   "id": "a3e2387e",
   "metadata": {},
   "outputs": [
    {
     "name": "stdout",
     "output_type": "stream",
     "text": [
      "7\n"
     ]
    }
   ],
   "source": [
    "print(np.argmax(predictions[0]))"
   ]
  },
  {
   "cell_type": "code",
   "execution_count": 174,
   "id": "2f8d03bb",
   "metadata": {},
   "outputs": [
    {
     "data": {
      "text/plain": [
       "<matplotlib.image.AxesImage at 0x1fa26a42e50>"
      ]
     },
     "execution_count": 174,
     "metadata": {},
     "output_type": "execute_result"
    },
    {
     "data": {
      "image/png": "[encoded data removed]",
      "text/plain": [
       "<Figure size 432x288 with 1 Axes>"
      ]
     },
     "metadata": {
      "needs_background": "light"
     },
     "output_type": "display_data"
    }
   ],
   "source": [
    "plt.imshow(X_test[0])"
   ]
  },
  {
   "cell_type": "code",
   "execution_count": 175,
   "id": "23d8cad6",
   "metadata": {},
   "outputs": [],
   "source": [
    "img=cv2.imread(\"testing2/0.JPG\")"
   ]
  },
  {
   "cell_type": "code",
   "execution_count": 176,
   "id": "63aecaf8",
   "metadata": {},
   "outputs": [
    {
     "data": {
      "text/plain": [
       "<matplotlib.image.AxesImage at 0x1fa26a1e0d0>"
      ]
     },
     "execution_count": 176,
     "metadata": {},
     "output_type": "execute_result"
    },
    {
     "data": {
      "image/png": "[encoded data removed]",
      "text/plain": [
       "<Figure size 432x288 with 1 Axes>"
      ]
     },
     "metadata": {
      "needs_background": "light"
     },
     "output_type": "display_data"
    }
   ],
   "source": [
    "plt.imshow(img)"
   ]
  },
  {
   "cell_type": "code",
   "execution_count": 177,
   "id": "4189145e",
   "metadata": {},
   "outputs": [],
   "source": [
    "gray=cv2.cvtColor(img,cv2.COLOR_BGR2GRAY) \n",
    "ret,gray=cv2.threshold(gray,120,255,cv2.THRESH_BINARY)\n",
    "resized=cv2.resize(gray,(128,128))"
   ]
  },
  {
   "cell_type": "code",
   "execution_count": 178,
   "id": "d4f0e4a2",
   "metadata": {},
   "outputs": [],
   "source": [
    "newimg=resized/255.0"
   ]
  },
  {
   "cell_type": "code",
   "execution_count": 179,
   "id": "2275491b",
   "metadata": {},
   "outputs": [],
   "source": [
    "#newimg=np.array(newimg)/255.0"
   ]
  },
  {
   "cell_type": "code",
   "execution_count": 180,
   "id": "52bbe4f7",
   "metadata": {},
   "outputs": [],
   "source": [
    "newimg=np.array(newimg).reshape(-1,128,128,1)"
   ]
  },
  {
   "cell_type": "code",
   "execution_count": 181,
   "id": "a8eb2845",
   "metadata": {},
   "outputs": [
    {
     "data": {
      "text/plain": [
       "(1, 128, 128, 1)"
      ]
     },
     "execution_count": 181,
     "metadata": {},
     "output_type": "execute_result"
    }
   ],
   "source": [
    "newimg.shape"
   ]
  },
  {
   "cell_type": "code",
   "execution_count": 135,
   "id": "026f8bca",
   "metadata": {},
   "outputs": [],
   "source": [
    "predictions=feature_extractor.predict(newimg)"
   ]
  },
  {
   "cell_type": "code",
   "execution_count": 136,
   "id": "edade36e",
   "metadata": {},
   "outputs": [
    {
     "name": "stdout",
     "output_type": "stream",
     "text": [
      "0\n"
     ]
    }
   ],
   "source": [
    "print(np.argmax(predictions))"
   ]
  },
  {
   "cell_type": "code",
   "execution_count": 137,
   "id": "60803973",
   "metadata": {},
   "outputs": [],
   "source": [
    "feature_extractor.save(\"sign_language_model.h5\")"
   ]
  },
  {
   "cell_type": "code",
   "execution_count": 10,
   "id": "d849a914",
   "metadata": {},
   "outputs": [],
   "source": [
    "from keras.models import load_model\n",
    "model=load_model('sign_language_model.h5')"
   ]
  },
  {
   "cell_type": "code",
   "execution_count": 139,
   "id": "8aa9984c",
   "metadata": {},
   "outputs": [
    {
     "name": "stdout",
     "output_type": "stream",
     "text": [
      "Test loss: 0.3045575022697449\n",
      "Test accuracy: 0.9478527903556824\n"
     ]
    }
   ],
   "source": [
    "score = model.evaluate(X_test, y_test, verbose = 0) \n",
    "\n",
    "print('Test loss:', score[0]) \n",
    "print('Test accuracy:', score[1])"
   ]
  },
  {
   "cell_type": "code",
   "execution_count": 140,
   "id": "0830c62d",
   "metadata": {},
   "outputs": [
    {
     "name": "stdout",
     "output_type": "stream",
     "text": [
      "(326, 128, 128, 1)\n"
     ]
    }
   ],
   "source": [
    "X_test = X_test.reshape(-1,128,128,1)\n",
    "X_train = X_train.reshape(-1,128,128,1)\n",
    "print(X_test.shape)"
   ]
  },
  {
   "cell_type": "code",
   "execution_count": 141,
   "id": "a9f7bf92",
   "metadata": {},
   "outputs": [],
   "source": [
    "preds = np.round(model.predict(X_test),0)"
   ]
  },
  {
   "cell_type": "code",
   "execution_count": 142,
   "id": "401d59b9",
   "metadata": {},
   "outputs": [
    {
     "data": {
      "text/plain": [
       "array([[0., 0., 0., ..., 1., 0., 0.],\n",
       "       [0., 0., 0., ..., 0., 0., 0.],\n",
       "       [0., 0., 0., ..., 0., 0., 0.],\n",
       "       ...,\n",
       "       [0., 0., 0., ..., 0., 1., 0.],\n",
       "       [0., 0., 0., ..., 0., 0., 0.],\n",
       "       [0., 0., 0., ..., 0., 0., 0.]], dtype=float32)"
      ]
     },
     "execution_count": 142,
     "metadata": {},
     "output_type": "execute_result"
    }
   ],
   "source": [
    "preds"
   ]
  },
  {
   "cell_type": "code",
   "execution_count": 143,
   "id": "cfcd53fa",
   "metadata": {},
   "outputs": [
    {
     "name": "stdout",
     "output_type": "stream",
     "text": [
      "(326, 10)\n"
     ]
    }
   ],
   "source": [
    "print(y_test.shape)"
   ]
  },
  {
   "cell_type": "code",
   "execution_count": 144,
   "id": "90bb42b0",
   "metadata": {},
   "outputs": [
    {
     "name": "stdout",
     "output_type": "stream",
     "text": [
      "              precision    recall  f1-score   support\n",
      "\n",
      "           0       0.97      1.00      0.99        37\n",
      "           1       0.97      0.97      0.97        31\n",
      "           2       0.94      0.97      0.96        33\n",
      "           3       0.97      0.97      0.97        31\n",
      "           4       0.95      0.83      0.89        24\n",
      "           5       0.86      1.00      0.93        32\n",
      "           6       1.00      0.94      0.97        35\n",
      "           7       0.96      0.76      0.85        34\n",
      "           8       0.92      1.00      0.96        35\n",
      "           9       0.97      1.00      0.99        34\n",
      "\n",
      "   micro avg       0.95      0.95      0.95       326\n",
      "   macro avg       0.95      0.94      0.95       326\n",
      "weighted avg       0.95      0.95      0.95       326\n",
      " samples avg       0.95      0.95      0.95       326\n",
      "\n"
     ]
    },
    {
     "name": "stderr",
     "output_type": "stream",
     "text": [
      "C:\\Users\\HP\\Music\\anaconda21\\envs\\nahid\\lib\\site-packages\\sklearn\\metrics\\_classification.py:1245: UndefinedMetricWarning: Precision and F-score are ill-defined and being set to 0.0 in samples with no predicted labels. Use `zero_division` parameter to control this behavior.\n",
      "  _warn_prf(average, modifier, msg_start, len(result))\n"
     ]
    }
   ],
   "source": [
    "from sklearn.metrics import accuracy_score, confusion_matrix, classification_report\n",
    "report = classification_report(y_test,preds)\n",
    "print(report)"
   ]
  },
  {
   "cell_type": "code",
   "execution_count": 11,
   "id": "bc7ef540",
   "metadata": {},
   "outputs": [],
   "source": [
    "import numpy as np \n",
    "import pandas as pd \n",
    "import matplotlib.pyplot as plt\n",
    "import cv2\n",
    "import tensorflow as tf\n",
    "from PIL import Image\n",
    "import os\n",
    "#os.chdir('D:/Traffic_Sign_Recognition')\n",
    "from sklearn.model_selection import train_test_split\n",
    "from keras.utils import to_categorical\n",
    "from keras.models import Sequential, load_model\n",
    "from keras.layers import Conv2D, MaxPool2D, Dense, Flatten, Dropout"
   ]
  },
  {
   "cell_type": "code",
   "execution_count": 12,
   "id": "96149e16",
   "metadata": {},
   "outputs": [
    {
     "name": "stdout",
     "output_type": "stream",
     "text": [
      "WARNING:tensorflow:From <ipython-input-12-d348c70a481b>:11: Sequential.predict_classes (from tensorflow.python.keras.engine.sequential) is deprecated and will be removed after 2021-01-01.\n",
      "Instructions for updating:\n",
      "Please use instead:* `np.argmax(model.predict(x), axis=-1)`,   if your model does multi-class classification   (e.g. if it uses a `softmax` last-layer activation).* `(model.predict(x) > 0.5).astype(\"int32\")`,   if your model does binary classification   (e.g. if it uses a `sigmoid` last-layer activation).\n",
      "1\n",
      "0.998281\n"
     ]
    },
    {
     "data": {
      "image/png": "[encoded data removed]",
      "text/plain": [
       "<Figure size 432x288 with 1 Axes>"
      ]
     },
     "metadata": {
      "needs_background": "light"
     },
     "output_type": "display_data"
    }
   ],
   "source": [
    "img=cv2.imread(\"testing2/28.jpg\")\n",
    "plt.imshow(img)\n",
    "gray=cv2.cvtColor(img,cv2.COLOR_BGR2GRAY) \n",
    "ret,gray=cv2.threshold(gray,120,255,cv2.THRESH_BINARY)\n",
    "resized=cv2.resize(gray,(128,128))\n",
    "newimg=resized/255.0\n",
    "newimg=np.array(newimg).reshape(-1,128,128,1)\n",
    "#newimg=newimg.reshape(-1,128,128,1)\n",
    "#newimg=newimg/255.0\n",
    "predictions=model.predict(newimg)\n",
    "pred = model.predict_classes([newimg])[0]\n",
    "print(pred)\n",
    "#print(predictions)\n",
    "p=np.argmax(predictions)\n",
    "#print(p)\n",
    "print(predictions[0][p])"
   ]
  },
  {
   "cell_type": "code",
   "execution_count": 166,
   "id": "3be45e9b",
   "metadata": {},
   "outputs": [],
   "source": [
    "from sklearn.model_selection import train_test_split\n",
    "from sklearn.neighbors import KNeighborsClassifier\n",
    "from sklearn import metrics"
   ]
  },
  {
   "cell_type": "markdown",
   "id": "27262a7b",
   "metadata": {},
   "source": [
    "# Random Forest Classifier"
   ]
  },
  {
   "cell_type": "code",
   "execution_count": 167,
   "id": "c096f0b5",
   "metadata": {},
   "outputs": [],
   "source": [
    "X_for_RF = model.predict(X_train) \n",
    "\n",
    "#RANDOM FOREST\n",
    "from sklearn.ensemble import RandomForestClassifier\n",
    "RF_model = RandomForestClassifier(n_estimators = 50, random_state = 42)"
   ]
  },
  {
   "cell_type": "code",
   "execution_count": 168,
   "id": "38293ef3",
   "metadata": {},
   "outputs": [
    {
     "data": {
      "text/plain": [
       "RandomForestClassifier(n_estimators=50, random_state=42)"
      ]
     },
     "execution_count": 168,
     "metadata": {},
     "output_type": "execute_result"
    }
   ],
   "source": [
    "RF_model.fit(X_for_RF, y_train)"
   ]
  },
  {
   "cell_type": "code",
   "execution_count": 169,
   "id": "aa22a218",
   "metadata": {},
   "outputs": [],
   "source": [
    "X_test_feature = model.predict(X_test) \n",
    "prediction_RF = RF_model.predict(X_test_feature)"
   ]
  },
  {
   "cell_type": "code",
   "execution_count": 170,
   "id": "4abcad7b",
   "metadata": {},
   "outputs": [
    {
     "name": "stdout",
     "output_type": "stream",
     "text": [
      "Accuracy =  0.9386503067484663\n"
     ]
    }
   ],
   "source": [
    "from sklearn import metrics\n",
    "print (\"Accuracy = \", metrics.accuracy_score(y_test, prediction_RF))"
   ]
  },
  {
   "cell_type": "markdown",
   "id": "d2c1e1bc",
   "metadata": {},
   "source": [
    "# KNN Classifier"
   ]
  },
  {
   "cell_type": "code",
   "execution_count": 152,
   "id": "098d6f97",
   "metadata": {},
   "outputs": [],
   "source": [
    "X_for_knn = model.predict(X_train)\n",
    "from sklearn.neighbors import KNeighborsClassifier"
   ]
  },
  {
   "cell_type": "code",
   "execution_count": 153,
   "id": "c443c169",
   "metadata": {},
   "outputs": [],
   "source": [
    "knn_model=KNeighborsClassifier(n_neighbors = 7)"
   ]
  },
  {
   "cell_type": "code",
   "execution_count": 154,
   "id": "43b2830d",
   "metadata": {},
   "outputs": [
    {
     "data": {
      "text/plain": [
       "KNeighborsClassifier(n_neighbors=7)"
      ]
     },
     "execution_count": 154,
     "metadata": {},
     "output_type": "execute_result"
    }
   ],
   "source": [
    "knn_model.fit(X_for_knn, y_train)"
   ]
  },
  {
   "cell_type": "code",
   "execution_count": 155,
   "id": "f7cb9d6a",
   "metadata": {},
   "outputs": [],
   "source": [
    "X_test_feature = model.predict(X_test) \n",
    "prediction_knn = knn_model.predict(X_test_feature)"
   ]
  },
  {
   "cell_type": "code",
   "execution_count": 156,
   "id": "8c07665e",
   "metadata": {},
   "outputs": [
    {
     "name": "stdout",
     "output_type": "stream",
     "text": [
      "Accuracy =  0.950920245398773\n"
     ]
    }
   ],
   "source": [
    "from sklearn import metrics\n",
    "print (\"Accuracy = \", metrics.accuracy_score(y_test, prediction_knn))"
   ]
  },
  {
   "cell_type": "markdown",
   "id": "9e782385",
   "metadata": {},
   "source": [
    "# Decision Tree Classifier"
   ]
  },
  {
   "cell_type": "code",
   "execution_count": 157,
   "id": "73b77283",
   "metadata": {},
   "outputs": [],
   "source": [
    "X_for_dt = model.predict(X_train)\n",
    "from sklearn.tree import DecisionTreeClassifier"
   ]
  },
  {
   "cell_type": "code",
   "execution_count": 158,
   "id": "8b773103",
   "metadata": {},
   "outputs": [],
   "source": [
    "dt_model=DecisionTreeClassifier()"
   ]
  },
  {
   "cell_type": "code",
   "execution_count": 159,
   "id": "e3601b64",
   "metadata": {},
   "outputs": [
    {
     "data": {
      "text/plain": [
       "(1303, 10)"
      ]
     },
     "execution_count": 159,
     "metadata": {},
     "output_type": "execute_result"
    }
   ],
   "source": [
    "X_for_dt.shape"
   ]
  },
  {
   "cell_type": "code",
   "execution_count": 160,
   "id": "8e37b612",
   "metadata": {},
   "outputs": [
    {
     "data": {
      "text/plain": [
       "DecisionTreeClassifier()"
      ]
     },
     "execution_count": 160,
     "metadata": {},
     "output_type": "execute_result"
    }
   ],
   "source": [
    "dt_model.fit(X_for_dt, y_train)"
   ]
  },
  {
   "cell_type": "code",
   "execution_count": 161,
   "id": "29cd5787",
   "metadata": {},
   "outputs": [],
   "source": [
    "X_test_feature = model.predict(X_test) \n",
    "prediction_dt = dt_model.predict(X_test_feature)"
   ]
  },
  {
   "cell_type": "code",
   "execution_count": 162,
   "id": "f7abb49d",
   "metadata": {},
   "outputs": [
    {
     "data": {
      "text/plain": [
       "(326, 10)"
      ]
     },
     "execution_count": 162,
     "metadata": {},
     "output_type": "execute_result"
    }
   ],
   "source": [
    "X_test_feature.shape"
   ]
  },
  {
   "cell_type": "code",
   "execution_count": 163,
   "id": "39bb311b",
   "metadata": {},
   "outputs": [
    {
     "data": {
      "text/plain": [
       "(326, 10)"
      ]
     },
     "execution_count": 163,
     "metadata": {},
     "output_type": "execute_result"
    }
   ],
   "source": [
    "prediction_dt.shape"
   ]
  },
  {
   "cell_type": "code",
   "execution_count": 164,
   "id": "03c6611b",
   "metadata": {},
   "outputs": [
    {
     "name": "stdout",
     "output_type": "stream",
     "text": [
      "Accuracy =  0.9355828220858896\n"
     ]
    }
   ],
   "source": [
    "from sklearn import metrics\n",
    "print (\"Accuracy = \", metrics.accuracy_score(y_test, prediction_dt))"
   ]
  },
  {
   "cell_type": "code",
   "execution_count": 182,
   "id": "25e1e1fc",
   "metadata": {},
   "outputs": [],
   "source": [
    "model.save(\"sign_language_model.h5\")"
   ]
  },
  {
   "cell_type": "code",
   "execution_count": 13,
   "id": "e080ef3d",
   "metadata": {},
   "outputs": [],
   "source": [
    "import os\n",
    "import sys\n",
    "import tkinter as tk\n",
    "from tkinter import filedialog\n",
    "from tkinter import *\n",
    "from PIL import ImageTk, Image\n",
    "from PIL import Image, ImageOps\n",
    "import pickle\n",
    "import numpy"
   ]
  },
  {
   "cell_type": "code",
   "execution_count": 14,
   "id": "fcfbf4ce",
   "metadata": {},
   "outputs": [],
   "source": [
    "from keras.models import load_model\n",
    "model=load_model('sign_language_model.h5')"
   ]
  },
  {
   "cell_type": "code",
   "execution_count": 15,
   "id": "9d5daa53",
   "metadata": {},
   "outputs": [],
   "source": [
    "classes = {1: 'শূণ্য',\n",
    "           2: 'এক',\n",
    "           3: 'দুই',\n",
    "           4: 'তিন',\n",
    "           5: 'চার',\n",
    "           6: 'পাঁচ',\n",
    "           7: 'ছয়',\n",
    "           8: 'সাত',\n",
    "           9: 'আট',\n",
    "           10: 'নয়'}"
   ]
  },
  {
   "cell_type": "code",
   "execution_count": 16,
   "id": "3452ebcb",
   "metadata": {},
   "outputs": [],
   "source": [
    "top = tk.Tk()\n",
    "top.geometry('1500x900')\n",
    "top.title('Sign language digit Predictor')\n",
    "top.configure(background='#CDCDCD')\n",
    "\n",
    "label = Label(top, background='#CDCDCD', font=('arial', 18, 'bold'))\n",
    "sign_image = Label(top)"
   ]
  },
  {
   "cell_type": "code",
   "execution_count": 17,
   "id": "b1bdc1b1",
   "metadata": {},
   "outputs": [],
   "source": [
    "file_path='E:/project/jahid/final_project/digit3/testing2'\n",
    "\n",
    "def classify(file_path):\n",
    "\tglobal label_packed\n",
    "\timage = cv2.imread(file_path)\n",
    "\tgray=cv2.cvtColor(image,cv2.COLOR_BGR2GRAY) \n",
    "\tret,gray=cv2.threshold(gray,120,255,cv2.THRESH_BINARY)\n",
    "\tresized=cv2.resize(gray,(128,128))\n",
    "#\tnewimg=tf.keras.utils.normalize(resized,axis=1)\n",
    "\tnewimg=resized/255.0\n",
    "\tnewimg=np.array(newimg).reshape(-1,128,128,1)\n",
    "\tpredictions=model.predict(newimg)\n",
    "\ts=np.argmax(predictions)\n",
    "\tsign=classes[s + 1]  \n",
    "\ts1=predictions[0][s]\n",
    "\tprint(s1) \n",
    "#\tlabel.configure(foreground='#364196', text=s1)\n",
    "\t#print(np.argmax(predictions))\n",
    "\tprint(sign)  \n",
    "#\tlabel.configure(foreground='#364196', text=s1)\n",
    "\tlabel.configure(foreground='#364196', text=sign)"
   ]
  },
  {
   "cell_type": "code",
   "execution_count": 18,
   "id": "0619eb99",
   "metadata": {},
   "outputs": [],
   "source": [
    "def show_classify_button(file_path):\n",
    "\tclassify_b = Button(top, text=\"Classify Image\", command=lambda: classify(file_path), padx=10, pady=5)\n",
    "\tclassify_b.configure(background='#364196', foreground='white', font=('arial', 10, 'bold'))\n",
    "\tclassify_b.place(relx=0.79, rely=0.46)"
   ]
  },
  {
   "cell_type": "code",
   "execution_count": 19,
   "id": "5bc49f59",
   "metadata": {},
   "outputs": [],
   "source": [
    "\n",
    "def upload_image():\n",
    "\ttry:\n",
    "\t\tfile_path = filedialog.askopenfilename()\n",
    "\t\tuploaded = Image.open(file_path)\n",
    "\t\tuploaded.thumbnail(((top.winfo_width() / 2.25), (top.winfo_height() / 2.25)))\n",
    "\t\tim = ImageTk.PhotoImage(uploaded)\n",
    "\n",
    "\t\tsign_image.configure(image=im)\n",
    "\t\tsign_image.image = im\n",
    "\t\tlabel.configure(text='')\n",
    "\t\tshow_classify_button(file_path)\n",
    "\texcept:\n",
    "\t\tpass"
   ]
  },
  {
   "cell_type": "code",
   "execution_count": 20,
   "id": "37a4f5ec",
   "metadata": {},
   "outputs": [
    {
     "name": "stdout",
     "output_type": "stream",
     "text": [
      "1.0\n",
      "শূণ্য\n",
      "0.9324481\n",
      "আট\n",
      "0.9999857\n",
      "ছয়\n",
      "0.9916951\n",
      "দুই\n",
      "0.9945539\n",
      "আট\n",
      "0.9987883\n",
      "চার\n",
      "0.9909372\n",
      "সাত\n",
      "0.9909372\n",
      "সাত\n",
      "0.48078254\n",
      "এক\n",
      "0.9999707\n",
      "পাঁচ\n",
      "0.99878234\n",
      "পাঁচ\n",
      "0.9991173\n",
      "আট\n",
      "0.9995865\n",
      "তিন\n",
      "0.9844236\n",
      "চার\n",
      "0.99993265\n",
      "শূণ্য\n"
     ]
    }
   ],
   "source": [
    "upload = Button(top, text=\"Upload a sign language image\", command=upload_image, padx=10, pady=5)\n",
    "upload.configure(background='#364196', foreground='white', font=('arial', 10, 'bold'))\n",
    "\n",
    "upload.pack(side=BOTTOM, pady=70)\n",
    "sign_image.pack(side=BOTTOM, expand=True)\n",
    "label.pack(side=BOTTOM, expand=True)\n",
    "heading = Label(top, text=\"Predict Your sign language digit\", pady=40, font=('Times New Roman', 25, 'bold'))\n",
    "heading.configure(background='#CDCDCD', foreground='#364196')\n",
    "heading.pack()\n",
    "top.mainloop()"
   ]
  },
  {
   "cell_type": "code",
   "execution_count": null,
   "id": "da667064",
   "metadata": {},
   "outputs": [],
   "source": []
  }
 ],
 "metadata": {
  "kernelspec": {
   "display_name": "Python 3",
   "language": "python",
   "name": "python3"
  },
  "language_info": {
   "codemirror_mode": {
    "name": "ipython",
    "version": 3
   },
   "file_extension": ".py",
   "mimetype": "text/x-python",
   "name": "python",
   "nbconvert_exporter": "python",
   "pygments_lexer": "ipython3",
   "version": "3.8.8"
  }
 },
 "nbformat": 4,
 "nbformat_minor": 5
}
