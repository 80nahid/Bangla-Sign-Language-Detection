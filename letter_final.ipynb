{
 "cells": [
  {
   "cell_type": "code",
   "execution_count": 1,
   "id": "cf1edf05",
   "metadata": {},
   "outputs": [
    {
     "name": "stdout",
     "output_type": "stream",
     "text": [
      "{'0': 0, '1': 1, '10': 2, '11': 3, '12': 4, '13': 5, '14': 6, '15': 7, '16': 8, '17': 9, '18': 10, '19': 11, '2': 12, '20': 13, '21': 14, '22': 15, '23': 16, '24': 17, '25': 18, '26': 19, '27': 20, '28': 21, '29': 22, '3': 23, '30': 24, '31': 25, '32': 26, '33': 27, '34': 28, '35': 29, '4': 30, '5': 31, '6': 32, '7': 33, '8': 34, '9': 35}\n",
      "['0', '1', '10', '11', '12', '13', '14', '15', '16', '17', '18', '19', '2', '20', '21', '22', '23', '24', '25', '26', '27', '28', '29', '3', '30', '31', '32', '33', '34', '35', '4', '5', '6', '7', '8', '9']\n",
      "[0, 1, 2, 3, 4, 5, 6, 7, 8, 9, 10, 11, 12, 13, 14, 15, 16, 17, 18, 19, 20, 21, 22, 23, 24, 25, 26, 27, 28, 29, 30, 31, 32, 33, 34, 35]\n"
     ]
    }
   ],
   "source": [
    "import  cv2,os\n",
    "from PIL import Image \n",
    "from PIL import Image, ImageOps \n",
    "data_path='E:/project/jahid/our_final_project/letter/letter4'\n",
    "categories=os.listdir(data_path)\n",
    "labels=[i for i in range(len(categories))]\n",
    "\n",
    "label_dict=dict(zip(categories,labels))\n",
    "\n",
    "print(label_dict)\n",
    "print(categories)\n",
    "print(labels)"
   ]
  },
  {
   "cell_type": "markdown",
   "id": "1a987dff",
   "metadata": {},
   "source": [
    "# Necessery module import"
   ]
  },
  {
   "cell_type": "code",
   "execution_count": 2,
   "id": "54a86d70",
   "metadata": {},
   "outputs": [],
   "source": [
    "import numpy as np\n",
    "import cv2\n",
    "import os\n",
    "from sklearn.cluster import KMeans\n",
    "from scipy.spatial import distance\n",
    "from sklearn.cluster import MiniBatchKMeans\n",
    "from sklearn.svm import SVC\n",
    "import sklearn.metrics as skmetrics\n",
    "import random\n",
    "import pickle\n",
    "import matplotlib.pyplot as plt\n",
    "from PIL import Image\n",
    "import glob\n",
    "from PIL import ImageTk, Image\n",
    "from PIL import Image, ImageEnhance\n",
    "from PIL import Image, ImageFilter \n",
    "from PIL import Image, ImageOps"
   ]
  },
  {
   "cell_type": "code",
   "execution_count": 3,
   "id": "a1f934fb",
   "metadata": {},
   "outputs": [],
   "source": [
    "import numpy as np \n",
    "import pandas as pd \n",
    "import matplotlib.pyplot as plt\n",
    "import cv2\n",
    "import tensorflow as tf\n",
    "from PIL import Image\n",
    "import os\n",
    "#os.chdir('D:/Traffic_Sign_Recognition')\n",
    "from sklearn.model_selection import train_test_split\n",
    "from keras.utils import to_categorical\n",
    "from keras.models import Sequential, load_model\n",
    "from keras.layers import Conv2D, MaxPool2D, Dense, Flatten, Dropout"
   ]
  },
  {
   "cell_type": "markdown",
   "id": "c325b0ea",
   "metadata": {},
   "source": [
    "# Image preprocessing"
   ]
  },
  {
   "cell_type": "code",
   "execution_count": 4,
   "id": "3480754a",
   "metadata": {},
   "outputs": [],
   "source": [
    "img_size=128\n",
    "data=[]\n",
    "target=[]\n",
    "\n",
    "\n",
    "for category in categories:\n",
    "    folder_path=os.path.join(data_path,category)\n",
    "    img_names=os.listdir(folder_path)\n",
    "        \n",
    "    for img_name in img_names:\n",
    "        img_path=os.path.join(folder_path,img_name)\n",
    "        img=cv2.imread(img_path)\n",
    "\n",
    "        try:\n",
    "            gray=cv2.cvtColor(img,cv2.COLOR_BGR2GRAY) \n",
    "            ret,gray=cv2.threshold(gray,120,255,cv2.THRESH_BINARY)\n",
    "            resized=cv2.resize(gray,(128,128))\n",
    "            #resizing the gray scale into 100x100, since we need a fixed common size for all the images in the dataset\n",
    "            data.append(resized)\n",
    "            target.append(label_dict[category])\n",
    "            #appending the image and the label(categorized) into the list (dataset)\n",
    "\n",
    "        except Exception as e:\n",
    "            print('Exception:',e)\n",
    "            #if any exception rasied, the exception will be printed here. And pass to the next image"
   ]
  },
  {
   "cell_type": "code",
   "execution_count": 5,
   "id": "7a43f977",
   "metadata": {},
   "outputs": [],
   "source": [
    "import numpy as np\n",
    "\n",
    "data=np.array(data)/255.0\n",
    "data=np.reshape(data,(data.shape[0],img_size,img_size,1))\n",
    "target=np.array(target)\n",
    "\n",
    "from keras.utils import np_utils\n",
    "\n",
    "new_target=np_utils.to_categorical(target)"
   ]
  },
  {
   "cell_type": "code",
   "execution_count": 6,
   "id": "4d069609",
   "metadata": {},
   "outputs": [],
   "source": [
    "np.save('data',data)\n",
    "np.save('target',new_target)"
   ]
  },
  {
   "cell_type": "code",
   "execution_count": 7,
   "id": "378f7db4",
   "metadata": {},
   "outputs": [
    {
     "name": "stdout",
     "output_type": "stream",
     "text": [
      "(4586, 128, 128, 1) (4586,)\n"
     ]
    }
   ],
   "source": [
    "print(data.shape, target.shape)"
   ]
  },
  {
   "cell_type": "code",
   "execution_count": null,
   "id": "7cc34860",
   "metadata": {},
   "outputs": [],
   "source": []
  },
  {
   "cell_type": "code",
   "execution_count": 2,
   "id": "30b1e6c3",
   "metadata": {},
   "outputs": [],
   "source": [
    "import numpy as np\n",
    "\n",
    "data=np.load('data.npy')\n",
    "target=np.load('target.npy')"
   ]
  },
  {
   "cell_type": "code",
   "execution_count": 3,
   "id": "9ecdceca",
   "metadata": {},
   "outputs": [],
   "source": [
    "import numpy as np \n",
    "import pandas as pd \n",
    "import matplotlib.pyplot as plt\n",
    "import cv2\n",
    "import tensorflow as tf\n",
    "from PIL import Image\n",
    "import os\n",
    "#os.chdir('D:/Traffic_Sign_Recognition')\n",
    "from sklearn.model_selection import train_test_split\n",
    "from keras.utils import to_categorical\n",
    "from keras.models import Sequential, load_model\n",
    "from keras.layers import Conv2D, MaxPool2D, Dense, Flatten, Dropout"
   ]
  },
  {
   "cell_type": "code",
   "execution_count": 4,
   "id": "9e7ebd06",
   "metadata": {},
   "outputs": [
    {
     "data": {
      "text/plain": [
       "<matplotlib.image.AxesImage at 0x19d4d4d4280>"
      ]
     },
     "execution_count": 4,
     "metadata": {},
     "output_type": "execute_result"
    },
    {
     "data": {
      "image/png": "[encoded data removed]",
      "text/plain": [
       "<Figure size 432x288 with 1 Axes>"
      ]
     },
     "metadata": {
      "needs_background": "light"
     },
     "output_type": "display_data"
    }
   ],
   "source": [
    "plt.imshow(data[2])"
   ]
  },
  {
   "cell_type": "code",
   "execution_count": 5,
   "id": "e3593912",
   "metadata": {},
   "outputs": [
    {
     "name": "stdout",
     "output_type": "stream",
     "text": [
      "[1. 0. 0. 0. 0. 0. 0. 0. 0. 0. 0. 0. 0. 0. 0. 0. 0. 0. 0. 0. 0. 0. 0. 0.\n",
      " 0. 0. 0. 0. 0. 0. 0. 0. 0. 0. 0. 0.]\n"
     ]
    }
   ],
   "source": [
    "print(target[2])"
   ]
  },
  {
   "cell_type": "markdown",
   "id": "e58ab5d0",
   "metadata": {},
   "source": [
    "# Train Test Split"
   ]
  },
  {
   "cell_type": "code",
   "execution_count": 6,
   "id": "9a927354",
   "metadata": {},
   "outputs": [],
   "source": [
    "X_train, X_test, y_train, y_test = train_test_split(data, target, test_size=0.2, random_state=0)"
   ]
  },
  {
   "cell_type": "code",
   "execution_count": 7,
   "id": "ceea972f",
   "metadata": {},
   "outputs": [
    {
     "name": "stdout",
     "output_type": "stream",
     "text": [
      "(3668, 128, 128, 1) (918, 128, 128, 1) (3668, 36) (918, 36)\n"
     ]
    }
   ],
   "source": [
    "print(X_train.shape, X_test.shape, y_train.shape, y_test.shape)"
   ]
  },
  {
   "cell_type": "code",
   "execution_count": 16,
   "id": "e518487d",
   "metadata": {},
   "outputs": [
    {
     "data": {
      "text/plain": [
       "<matplotlib.image.AxesImage at 0x1ce944c7d30>"
      ]
     },
     "execution_count": 16,
     "metadata": {},
     "output_type": "execute_result"
    },
    {
     "data": {
      "image/png": "[encoded data removed]",
      "text/plain": [
       "<Figure size 432x288 with 1 Axes>"
      ]
     },
     "metadata": {
      "needs_background": "light"
     },
     "output_type": "display_data"
    }
   ],
   "source": [
    "plt.imshow(X_train[0])"
   ]
  },
  {
   "cell_type": "code",
   "execution_count": 17,
   "id": "8c14afb1",
   "metadata": {},
   "outputs": [
    {
     "name": "stdout",
     "output_type": "stream",
     "text": [
      "[0. 0. 0. 0. 0. 0. 0. 0. 0. 0. 0. 0. 1. 0. 0. 0. 0. 0. 0. 0. 0. 0. 0. 0.\n",
      " 0. 0. 0. 0. 0. 0. 0. 0. 0. 0. 0. 0.]\n"
     ]
    }
   ],
   "source": [
    "print(y_train[0])"
   ]
  },
  {
   "cell_type": "code",
   "execution_count": 18,
   "id": "a37c62f5",
   "metadata": {},
   "outputs": [
    {
     "name": "stdout",
     "output_type": "stream",
     "text": [
      "[[[1.        ]\n",
      "  [1.        ]\n",
      "  [1.        ]\n",
      "  ...\n",
      "  [1.        ]\n",
      "  [1.        ]\n",
      "  [1.        ]]\n",
      "\n",
      " [[1.        ]\n",
      "  [1.        ]\n",
      "  [1.        ]\n",
      "  ...\n",
      "  [1.        ]\n",
      "  [1.        ]\n",
      "  [1.        ]]\n",
      "\n",
      " [[1.        ]\n",
      "  [1.        ]\n",
      "  [1.        ]\n",
      "  ...\n",
      "  [1.        ]\n",
      "  [1.        ]\n",
      "  [1.        ]]\n",
      "\n",
      " ...\n",
      "\n",
      " [[1.        ]\n",
      "  [1.        ]\n",
      "  [1.        ]\n",
      "  ...\n",
      "  [1.        ]\n",
      "  [1.        ]\n",
      "  [1.        ]]\n",
      "\n",
      " [[1.        ]\n",
      "  [0.25098039]\n",
      "  [1.        ]\n",
      "  ...\n",
      "  [1.        ]\n",
      "  [1.        ]\n",
      "  [1.        ]]\n",
      "\n",
      " [[0.18823529]\n",
      "  [0.0627451 ]\n",
      "  [1.        ]\n",
      "  ...\n",
      "  [1.        ]\n",
      "  [1.        ]\n",
      "  [1.        ]]]\n"
     ]
    }
   ],
   "source": [
    "print(X_train[0])"
   ]
  },
  {
   "cell_type": "code",
   "execution_count": null,
   "id": "f4bfabfe",
   "metadata": {},
   "outputs": [],
   "source": []
  },
  {
   "cell_type": "code",
   "execution_count": 19,
   "id": "70555cb2",
   "metadata": {},
   "outputs": [],
   "source": [
    "model = tf.keras.models.Sequential()\n",
    "\n",
    "model.add( tf.keras.layers.Conv2D(filters=16,padding=\"same\",kernel_size=3, activation='relu', strides=2, input_shape=X_train.shape[1:] ))\n",
    "model.add( tf.keras.layers.MaxPool2D(pool_size=2, strides=2 ))\n",
    "\n",
    "\n",
    "model.add( tf.keras.layers.Conv2D(filters=32,padding='same',kernel_size=3, activation='relu' ))\n",
    "model.add( tf.keras.layers.MaxPool2D(pool_size=2, strides=2 ))\n",
    "\n",
    "model.add( tf.keras.layers.Conv2D(filters=64,padding='same',kernel_size=3, activation='relu' ))\n",
    "model.add( tf.keras.layers.MaxPool2D(pool_size=2, strides=2 ))\n",
    "\n",
    "model.add( tf.keras.layers.Conv2D(filters=128,padding='same',kernel_size=3, activation='relu' ))\n",
    "model.add( tf.keras.layers.MaxPool2D(pool_size=2, strides=2 ))\n",
    "model.add(Dropout(rate=0.25))\n",
    "model.add( tf.keras.layers.Flatten())\n",
    "model.add(Dropout(rate=0.5))\n",
    "model.add( tf.keras.layers.Dense(units=256, activation='relu' ))\n",
    "model.add( tf.keras.layers.Dense(units=128, activation='relu' ))\n",
    "model.add(tf.keras.layers.Dense(units=36, activation='softmax' ))"
   ]
  },
  {
   "cell_type": "code",
   "execution_count": 20,
   "id": "ee6eba5d",
   "metadata": {},
   "outputs": [],
   "source": [
    "model.compile(optimizer='adam',\n",
    "                  loss = 'categorical_crossentropy', metrics = ['accuracy'])"
   ]
  },
  {
   "cell_type": "code",
   "execution_count": 21,
   "id": "be6dac26",
   "metadata": {},
   "outputs": [
    {
     "name": "stdout",
     "output_type": "stream",
     "text": [
      "Epoch 1/50\n",
      "115/115 [==============================] - 11s 96ms/step - loss: 3.5615 - accuracy: 0.0365 - val_loss: 3.3438 - val_accuracy: 0.0959\n",
      "Epoch 2/50\n",
      "115/115 [==============================] - 11s 92ms/step - loss: 2.9085 - accuracy: 0.1993 - val_loss: 2.2236 - val_accuracy: 0.3551\n",
      "Epoch 3/50\n",
      "115/115 [==============================] - 11s 93ms/step - loss: 1.9553 - accuracy: 0.4119 - val_loss: 1.5378 - val_accuracy: 0.5327\n",
      "Epoch 4/50\n",
      "115/115 [==============================] - 11s 98ms/step - loss: 1.4044 - accuracy: 0.5698 - val_loss: 1.0071 - val_accuracy: 0.6841\n",
      "Epoch 5/50\n",
      "115/115 [==============================] - 12s 103ms/step - loss: 1.0335 - accuracy: 0.6728 - val_loss: 0.7782 - val_accuracy: 0.7647\n",
      "Epoch 6/50\n",
      "115/115 [==============================] - 12s 100ms/step - loss: 0.8262 - accuracy: 0.7339 - val_loss: 0.6878 - val_accuracy: 0.7930\n",
      "Epoch 7/50\n",
      "115/115 [==============================] - 11s 98ms/step - loss: 0.7123 - accuracy: 0.7658 - val_loss: 0.5870 - val_accuracy: 0.8105\n",
      "Epoch 8/50\n",
      "115/115 [==============================] - 11s 99ms/step - loss: 0.5552 - accuracy: 0.8154 - val_loss: 0.5622 - val_accuracy: 0.8192\n",
      "Epoch 9/50\n",
      "115/115 [==============================] - 11s 98ms/step - loss: 0.5061 - accuracy: 0.8345 - val_loss: 0.4851 - val_accuracy: 0.8475\n",
      "Epoch 10/50\n",
      "115/115 [==============================] - 12s 101ms/step - loss: 0.4396 - accuracy: 0.8490 - val_loss: 0.5003 - val_accuracy: 0.8584\n",
      "Epoch 11/50\n",
      "115/115 [==============================] - 12s 104ms/step - loss: 0.3647 - accuracy: 0.8738 - val_loss: 0.5493 - val_accuracy: 0.8366\n",
      "Epoch 12/50\n",
      "115/115 [==============================] - 12s 100ms/step - loss: 0.3516 - accuracy: 0.8814 - val_loss: 0.4288 - val_accuracy: 0.8747\n",
      "Epoch 13/50\n",
      "115/115 [==============================] - 11s 98ms/step - loss: 0.2687 - accuracy: 0.9087 - val_loss: 0.3958 - val_accuracy: 0.8900\n",
      "Epoch 14/50\n",
      "115/115 [==============================] - 11s 98ms/step - loss: 0.2536 - accuracy: 0.9128 - val_loss: 0.4332 - val_accuracy: 0.8791\n",
      "Epoch 15/50\n",
      "115/115 [==============================] - 11s 98ms/step - loss: 0.2686 - accuracy: 0.9046 - val_loss: 0.3906 - val_accuracy: 0.8813\n",
      "Epoch 16/50\n",
      "115/115 [==============================] - 11s 98ms/step - loss: 0.2042 - accuracy: 0.9272 - val_loss: 0.4101 - val_accuracy: 0.8834\n",
      "Epoch 17/50\n",
      "115/115 [==============================] - 11s 98ms/step - loss: 0.2186 - accuracy: 0.9297 - val_loss: 0.4059 - val_accuracy: 0.8834\n",
      "Epoch 18/50\n",
      "115/115 [==============================] - 12s 101ms/step - loss: 0.1901 - accuracy: 0.9310 - val_loss: 0.4520 - val_accuracy: 0.8693\n",
      "Epoch 19/50\n",
      "115/115 [==============================] - 11s 99ms/step - loss: 0.1719 - accuracy: 0.9397 - val_loss: 0.3409 - val_accuracy: 0.8911\n",
      "Epoch 20/50\n",
      "115/115 [==============================] - 11s 98ms/step - loss: 0.1577 - accuracy: 0.9460 - val_loss: 0.3661 - val_accuracy: 0.8976\n",
      "Epoch 21/50\n",
      "115/115 [==============================] - 12s 106ms/step - loss: 0.1686 - accuracy: 0.9384 - val_loss: 0.3848 - val_accuracy: 0.8856\n",
      "Epoch 22/50\n",
      "115/115 [==============================] - 12s 105ms/step - loss: 0.1676 - accuracy: 0.9406 - val_loss: 0.3627 - val_accuracy: 0.9009\n",
      "Epoch 23/50\n",
      "115/115 [==============================] - 11s 99ms/step - loss: 0.1320 - accuracy: 0.9558 - val_loss: 0.3697 - val_accuracy: 0.9074\n",
      "Epoch 24/50\n",
      "115/115 [==============================] - 11s 99ms/step - loss: 0.1384 - accuracy: 0.9539 - val_loss: 0.3840 - val_accuracy: 0.9085\n",
      "Epoch 25/50\n",
      "115/115 [==============================] - 11s 97ms/step - loss: 0.1374 - accuracy: 0.9509 - val_loss: 0.3813 - val_accuracy: 0.8998\n",
      "Epoch 26/50\n",
      "115/115 [==============================] - 12s 101ms/step - loss: 0.1346 - accuracy: 0.9588 - val_loss: 0.3790 - val_accuracy: 0.9107\n",
      "Epoch 27/50\n",
      "115/115 [==============================] - 11s 99ms/step - loss: 0.1229 - accuracy: 0.9586 - val_loss: 0.4320 - val_accuracy: 0.8965\n",
      "Epoch 28/50\n",
      "115/115 [==============================] - 12s 101ms/step - loss: 0.1170 - accuracy: 0.9580 - val_loss: 0.4125 - val_accuracy: 0.8889\n",
      "Epoch 29/50\n",
      "115/115 [==============================] - 12s 101ms/step - loss: 0.1286 - accuracy: 0.9547 - val_loss: 0.3691 - val_accuracy: 0.8954\n",
      "Epoch 30/50\n",
      "115/115 [==============================] - 11s 99ms/step - loss: 0.1158 - accuracy: 0.9640 - val_loss: 0.4050 - val_accuracy: 0.8922\n",
      "Epoch 31/50\n",
      "115/115 [==============================] - 12s 102ms/step - loss: 0.1053 - accuracy: 0.9635 - val_loss: 0.3121 - val_accuracy: 0.9161\n",
      "Epoch 32/50\n",
      "115/115 [==============================] - 12s 102ms/step - loss: 0.0893 - accuracy: 0.9703 - val_loss: 0.3464 - val_accuracy: 0.9129\n",
      "Epoch 33/50\n",
      "115/115 [==============================] - 11s 99ms/step - loss: 0.1168 - accuracy: 0.9586 - val_loss: 0.3504 - val_accuracy: 0.9031\n",
      "Epoch 34/50\n",
      "115/115 [==============================] - 11s 98ms/step - loss: 0.1000 - accuracy: 0.9646 - val_loss: 0.3514 - val_accuracy: 0.9118\n",
      "Epoch 35/50\n",
      "115/115 [==============================] - 12s 108ms/step - loss: 0.0768 - accuracy: 0.9738 - val_loss: 0.3495 - val_accuracy: 0.9074\n",
      "Epoch 36/50\n",
      "115/115 [==============================] - 13s 112ms/step - loss: 0.0966 - accuracy: 0.9651 - val_loss: 0.3777 - val_accuracy: 0.9063\n",
      "Epoch 37/50\n",
      "115/115 [==============================] - 12s 105ms/step - loss: 0.1111 - accuracy: 0.9613 - val_loss: 0.3282 - val_accuracy: 0.9074\n",
      "Epoch 38/50\n",
      "115/115 [==============================] - 12s 108ms/step - loss: 0.0795 - accuracy: 0.9749 - val_loss: 0.3715 - val_accuracy: 0.9085\n",
      "Epoch 39/50\n",
      "115/115 [==============================] - 12s 107ms/step - loss: 0.0855 - accuracy: 0.9703 - val_loss: 0.4091 - val_accuracy: 0.8922\n",
      "Epoch 40/50\n",
      "115/115 [==============================] - 12s 107ms/step - loss: 0.0766 - accuracy: 0.9744 - val_loss: 0.3725 - val_accuracy: 0.9052\n",
      "Epoch 41/50\n",
      "115/115 [==============================] - 13s 110ms/step - loss: 0.0752 - accuracy: 0.9744 - val_loss: 0.4151 - val_accuracy: 0.9063\n",
      "Epoch 42/50\n",
      "115/115 [==============================] - 12s 103ms/step - loss: 0.0964 - accuracy: 0.9686 - val_loss: 0.3724 - val_accuracy: 0.9031\n",
      "Epoch 43/50\n",
      "115/115 [==============================] - 11s 94ms/step - loss: 0.0887 - accuracy: 0.9697 - val_loss: 0.3889 - val_accuracy: 0.9139\n",
      "Epoch 44/50\n",
      "115/115 [==============================] - 11s 98ms/step - loss: 0.0619 - accuracy: 0.9796 - val_loss: 0.4095 - val_accuracy: 0.9085\n",
      "Epoch 45/50\n",
      "115/115 [==============================] - 11s 98ms/step - loss: 0.0736 - accuracy: 0.9727 - val_loss: 0.4536 - val_accuracy: 0.8922\n",
      "Epoch 46/50\n",
      "115/115 [==============================] - 12s 100ms/step - loss: 0.1028 - accuracy: 0.9643 - val_loss: 0.3997 - val_accuracy: 0.8987\n",
      "Epoch 47/50\n",
      "115/115 [==============================] - 12s 101ms/step - loss: 0.0937 - accuracy: 0.9689 - val_loss: 0.3471 - val_accuracy: 0.9107\n",
      "Epoch 48/50\n",
      "115/115 [==============================] - 12s 103ms/step - loss: 0.0617 - accuracy: 0.9798 - val_loss: 0.3510 - val_accuracy: 0.9129\n",
      "Epoch 49/50\n",
      "115/115 [==============================] - 12s 100ms/step - loss: 0.0562 - accuracy: 0.9806 - val_loss: 0.3679 - val_accuracy: 0.9183\n",
      "Epoch 50/50\n",
      "115/115 [==============================] - 12s 100ms/step - loss: 0.0676 - accuracy: 0.9798 - val_loss: 0.3567 - val_accuracy: 0.9150\n"
     ]
    }
   ],
   "source": [
    "#Train the CNN model\n",
    "history = model.fit(X_train, y_train, epochs=50, validation_data=(X_test, y_test))"
   ]
  },
  {
   "cell_type": "code",
   "execution_count": 22,
   "id": "a733bd4c",
   "metadata": {},
   "outputs": [
    {
     "data": {
      "image/png": "[encoded data removed]",
      "text/plain": [
       "<Figure size 432x288 with 1 Axes>"
      ]
     },
     "metadata": {
      "needs_background": "light"
     },
     "output_type": "display_data"
    },
    {
     "data": {
      "image/png": "[encoded data removed]",
      "text/plain": [
       "<Figure size 432x288 with 1 Axes>"
      ]
     },
     "metadata": {
      "needs_background": "light"
     },
     "output_type": "display_data"
    }
   ],
   "source": [
    "import matplotlib.pyplot as plt\n",
    "\n",
    "plt.figure(0)\n",
    "plt.plot(history.history['accuracy'], label='training accuracy')\n",
    "plt.plot(history.history['val_accuracy'], label='val accuracy')\n",
    "plt.title('Accuracy')\n",
    "plt.xlabel('epochs')\n",
    "plt.ylabel('accuracy')\n",
    "plt.legend()\n",
    "plt.show()\n",
    "\n",
    "\n",
    "plt.plot(history.history['loss'], label='training loss')\n",
    "plt.plot(history.history['val_loss'], label='val loss')\n",
    "plt.title('Loss')\n",
    "plt.xlabel('epochs')\n",
    "plt.ylabel('loss')\n",
    "plt.legend()\n",
    "plt.show()"
   ]
  },
  {
   "cell_type": "code",
   "execution_count": 66,
   "id": "d0ad8c2d",
   "metadata": {},
   "outputs": [],
   "source": [
    "model.save(\"sign_language_model.h5\")"
   ]
  },
  {
   "cell_type": "code",
   "execution_count": 11,
   "id": "7b87e6e5",
   "metadata": {},
   "outputs": [],
   "source": [
    "from keras.models import load_model\n",
    "model=load_model('sign_language_model.h5')"
   ]
  },
  {
   "cell_type": "code",
   "execution_count": 25,
   "id": "86fb8303",
   "metadata": {},
   "outputs": [
    {
     "name": "stdout",
     "output_type": "stream",
     "text": [
      "Test loss: 0.35666942596435547\n",
      "Test accuracy: 0.915032684803009\n"
     ]
    }
   ],
   "source": [
    "score = model.evaluate(X_test, y_test, verbose = 0) \n",
    "\n",
    "print('Test loss:', score[0]) \n",
    "print('Test accuracy:', score[1])"
   ]
  },
  {
   "cell_type": "code",
   "execution_count": 26,
   "id": "bba15219",
   "metadata": {},
   "outputs": [
    {
     "data": {
      "text/plain": [
       "array([[0., 0., 0., ..., 0., 0., 0.],\n",
       "       [0., 0., 0., ..., 0., 0., 1.],\n",
       "       [0., 1., 0., ..., 0., 0., 0.],\n",
       "       ...,\n",
       "       [0., 0., 0., ..., 0., 0., 0.],\n",
       "       [0., 0., 0., ..., 0., 0., 0.],\n",
       "       [0., 0., 0., ..., 0., 0., 1.]], dtype=float32)"
      ]
     },
     "execution_count": 26,
     "metadata": {},
     "output_type": "execute_result"
    }
   ],
   "source": [
    "preds = np.round(model.predict(X_test),0)\n",
    "preds"
   ]
  },
  {
   "cell_type": "code",
   "execution_count": 27,
   "id": "155cbaff",
   "metadata": {},
   "outputs": [
    {
     "name": "stdout",
     "output_type": "stream",
     "text": [
      "              precision    recall  f1-score   support\n",
      "\n",
      "           0       0.94      1.00      0.97        17\n",
      "           1       0.97      1.00      0.98        31\n",
      "           2       1.00      1.00      1.00        26\n",
      "           3       0.92      0.88      0.90        26\n",
      "           4       0.94      0.91      0.92        32\n",
      "           5       1.00      0.96      0.98        28\n",
      "           6       1.00      1.00      1.00        21\n",
      "           7       0.97      1.00      0.98        28\n",
      "           8       1.00      1.00      1.00        26\n",
      "           9       0.95      1.00      0.97        19\n",
      "          10       0.95      0.87      0.91        23\n",
      "          11       1.00      0.78      0.88        32\n",
      "          12       0.97      1.00      0.98        31\n",
      "          13       0.91      0.83      0.87        24\n",
      "          14       1.00      0.96      0.98        25\n",
      "          15       0.67      0.86      0.75        21\n",
      "          16       0.85      0.88      0.87        26\n",
      "          17       0.91      0.91      0.91        22\n",
      "          18       1.00      0.76      0.86        21\n",
      "          19       1.00      0.90      0.95        31\n",
      "          20       0.82      0.56      0.67        25\n",
      "          21       0.83      0.96      0.89        25\n",
      "          22       0.78      0.91      0.84        23\n",
      "          23       0.87      0.96      0.91        27\n",
      "          24       0.95      0.97      0.96        36\n",
      "          25       0.96      0.80      0.87        30\n",
      "          26       0.96      1.00      0.98        23\n",
      "          27       0.78      0.95      0.86        22\n",
      "          28       0.96      0.89      0.92        27\n",
      "          29       0.96      0.82      0.88        28\n",
      "          30       0.91      0.91      0.91        22\n",
      "          31       0.94      0.68      0.79        22\n",
      "          32       0.85      0.85      0.85        20\n",
      "          33       0.87      1.00      0.93        26\n",
      "          34       0.92      0.92      0.92        26\n",
      "          35       0.96      0.96      0.96        26\n",
      "\n",
      "   micro avg       0.92      0.91      0.92       918\n",
      "   macro avg       0.92      0.91      0.91       918\n",
      "weighted avg       0.93      0.91      0.91       918\n",
      " samples avg       0.91      0.91      0.91       918\n",
      "\n"
     ]
    },
    {
     "name": "stderr",
     "output_type": "stream",
     "text": [
      "C:\\Users\\HP\\Music\\anaconda21\\envs\\nahid\\lib\\site-packages\\sklearn\\metrics\\_classification.py:1245: UndefinedMetricWarning: Precision and F-score are ill-defined and being set to 0.0 in samples with no predicted labels. Use `zero_division` parameter to control this behavior.\n",
      "  _warn_prf(average, modifier, msg_start, len(result))\n"
     ]
    }
   ],
   "source": [
    "from sklearn.metrics import accuracy_score, confusion_matrix, classification_report\n",
    "report = classification_report(y_test,preds)\n",
    "print(report)"
   ]
  },
  {
   "cell_type": "code",
   "execution_count": 70,
   "id": "162cedd5",
   "metadata": {},
   "outputs": [],
   "source": [
    "predictions=feature_extractor.predict(X_test)"
   ]
  },
  {
   "cell_type": "code",
   "execution_count": 71,
   "id": "478bad13",
   "metadata": {},
   "outputs": [
    {
     "name": "stdout",
     "output_type": "stream",
     "text": [
      "[[7.2076507e-12 8.5432675e-15 1.0349957e-11 ... 7.0135013e-09\n",
      "  1.1088656e-09 8.0079944e-06]\n",
      " [3.4060577e-14 1.8016515e-13 4.1728451e-11 ... 4.9897625e-07\n",
      "  1.8116769e-08 9.9730241e-01]\n",
      " [1.3781040e-02 7.1068150e-01 5.8805787e-11 ... 4.0616371e-10\n",
      "  5.8196914e-10 1.0872013e-09]\n",
      " ...\n",
      " [4.1791549e-11 8.4211582e-10 2.7798254e-08 ... 1.2903877e-04\n",
      "  7.6420649e-05 9.5108984e-04]\n",
      " [6.7586142e-10 4.9515606e-06 1.8089757e-12 ... 1.3410074e-09\n",
      "  2.0600455e-11 2.0815496e-09]\n",
      " [5.3452989e-11 9.7935542e-11 1.0570680e-08 ... 1.8492110e-05\n",
      "  2.5825205e-04 9.7195393e-01]]\n"
     ]
    }
   ],
   "source": [
    "print(predictions)"
   ]
  },
  {
   "cell_type": "code",
   "execution_count": 72,
   "id": "a3e2387e",
   "metadata": {},
   "outputs": [
    {
     "name": "stdout",
     "output_type": "stream",
     "text": [
      "19\n"
     ]
    }
   ],
   "source": [
    "print(np.argmax(predictions[0]))"
   ]
  },
  {
   "cell_type": "code",
   "execution_count": 73,
   "id": "2f8d03bb",
   "metadata": {},
   "outputs": [
    {
     "data": {
      "text/plain": [
       "<matplotlib.image.AxesImage at 0x264100dae20>"
      ]
     },
     "execution_count": 73,
     "metadata": {},
     "output_type": "execute_result"
    },
    {
     "data": {
      "image/png": "[encoded data removed]",
      "text/plain": [
       "<Figure size 432x288 with 1 Axes>"
      ]
     },
     "metadata": {
      "needs_background": "light"
     },
     "output_type": "display_data"
    }
   ],
   "source": [
    "plt.imshow(X_test[0])"
   ]
  },
  {
   "cell_type": "code",
   "execution_count": 70,
   "id": "23d8cad6",
   "metadata": {},
   "outputs": [],
   "source": [
    "img=cv2.imread(\"testing/20.JPG\")"
   ]
  },
  {
   "cell_type": "code",
   "execution_count": 71,
   "id": "63aecaf8",
   "metadata": {},
   "outputs": [
    {
     "data": {
      "text/plain": [
       "<matplotlib.image.AxesImage at 0x1cf0bb358b0>"
      ]
     },
     "execution_count": 71,
     "metadata": {},
     "output_type": "execute_result"
    },
    {
     "data": {
      "image/png": "[encoded data removed]",
      "text/plain": [
       "<Figure size 432x288 with 1 Axes>"
      ]
     },
     "metadata": {
      "needs_background": "light"
     },
     "output_type": "display_data"
    }
   ],
   "source": [
    "plt.imshow(img)"
   ]
  },
  {
   "cell_type": "code",
   "execution_count": 72,
   "id": "4189145e",
   "metadata": {},
   "outputs": [],
   "source": [
    "gray=cv2.cvtColor(img,cv2.COLOR_BGR2GRAY) \n",
    "ret,gray=cv2.threshold(gray,120,255,cv2.THRESH_BINARY)\n",
    "resized=cv2.resize(gray,(128,128))"
   ]
  },
  {
   "cell_type": "code",
   "execution_count": 73,
   "id": "d4f0e4a2",
   "metadata": {},
   "outputs": [],
   "source": [
    "newimg=resized/255.0"
   ]
  },
  {
   "cell_type": "code",
   "execution_count": 74,
   "id": "2275491b",
   "metadata": {},
   "outputs": [],
   "source": [
    "#newimg=np.array(newimg)/255.0"
   ]
  },
  {
   "cell_type": "code",
   "execution_count": 75,
   "id": "52bbe4f7",
   "metadata": {},
   "outputs": [],
   "source": [
    "newimg=np.array(newimg).reshape(-1,128,128,1)"
   ]
  },
  {
   "cell_type": "code",
   "execution_count": 76,
   "id": "a8eb2845",
   "metadata": {},
   "outputs": [
    {
     "data": {
      "text/plain": [
       "(1, 128, 128, 1)"
      ]
     },
     "execution_count": 76,
     "metadata": {},
     "output_type": "execute_result"
    }
   ],
   "source": [
    "newimg.shape"
   ]
  },
  {
   "cell_type": "code",
   "execution_count": 77,
   "id": "026f8bca",
   "metadata": {},
   "outputs": [],
   "source": [
    "predictions=feature_extractor.predict(newimg)"
   ]
  },
  {
   "cell_type": "code",
   "execution_count": 78,
   "id": "edade36e",
   "metadata": {},
   "outputs": [
    {
     "name": "stdout",
     "output_type": "stream",
     "text": [
      "18\n"
     ]
    }
   ],
   "source": [
    "print(np.argmax(predictions))"
   ]
  },
  {
   "cell_type": "code",
   "execution_count": 79,
   "id": "60803973",
   "metadata": {},
   "outputs": [],
   "source": [
    "model_extractor.save(\"sign_language_model.h5\")"
   ]
  },
  {
   "cell_type": "code",
   "execution_count": 1,
   "id": "d849a914",
   "metadata": {},
   "outputs": [],
   "source": [
    "from keras.models import load_model\n",
    "model=load_model('sign_language_model.h5')"
   ]
  },
  {
   "cell_type": "code",
   "execution_count": 7,
   "id": "bd7f7bb0",
   "metadata": {},
   "outputs": [
    {
     "data": {
      "text/plain": [
       "(3668, 128, 128, 1)"
      ]
     },
     "execution_count": 7,
     "metadata": {},
     "output_type": "execute_result"
    }
   ],
   "source": [
    "X_train.shape"
   ]
  },
  {
   "cell_type": "code",
   "execution_count": 3,
   "id": "742b5d56",
   "metadata": {
    "scrolled": true
   },
   "outputs": [
    {
     "name": "stdout",
     "output_type": "stream",
     "text": [
      "Model: \"sequential\"\n",
      "_________________________________________________________________\n",
      "Layer (type)                 Output Shape              Param #   \n",
      "=================================================================\n",
      "conv2d (Conv2D)              (None, 64, 64, 16)        160       \n",
      "_________________________________________________________________\n",
      "max_pooling2d (MaxPooling2D) (None, 32, 32, 16)        0         \n",
      "_________________________________________________________________\n",
      "conv2d_1 (Conv2D)            (None, 32, 32, 32)        4640      \n",
      "_________________________________________________________________\n",
      "max_pooling2d_1 (MaxPooling2 (None, 16, 16, 32)        0         \n",
      "_________________________________________________________________\n",
      "conv2d_2 (Conv2D)            (None, 16, 16, 64)        18496     \n",
      "_________________________________________________________________\n",
      "max_pooling2d_2 (MaxPooling2 (None, 8, 8, 64)          0         \n",
      "_________________________________________________________________\n",
      "conv2d_3 (Conv2D)            (None, 8, 8, 128)         73856     \n",
      "_________________________________________________________________\n",
      "max_pooling2d_3 (MaxPooling2 (None, 4, 4, 128)         0         \n",
      "_________________________________________________________________\n",
      "dropout (Dropout)            (None, 4, 4, 128)         0         \n",
      "_________________________________________________________________\n",
      "flatten (Flatten)            (None, 2048)              0         \n",
      "_________________________________________________________________\n",
      "dropout_1 (Dropout)          (None, 2048)              0         \n",
      "_________________________________________________________________\n",
      "dense (Dense)                (None, 256)               524544    \n",
      "_________________________________________________________________\n",
      "dense_1 (Dense)              (None, 128)               32896     \n",
      "_________________________________________________________________\n",
      "dense_2 (Dense)              (None, 36)                4644      \n",
      "=================================================================\n",
      "Total params: 659,236\n",
      "Trainable params: 659,236\n",
      "Non-trainable params: 0\n",
      "_________________________________________________________________\n"
     ]
    }
   ],
   "source": [
    "model.summary()"
   ]
  },
  {
   "cell_type": "code",
   "execution_count": 12,
   "id": "bc7ef540",
   "metadata": {},
   "outputs": [],
   "source": [
    "import numpy as np \n",
    "import pandas as pd \n",
    "import matplotlib.pyplot as plt\n",
    "import cv2\n",
    "import tensorflow as tf\n",
    "from PIL import Image\n",
    "import os\n",
    "#os.chdir('D:/Traffic_Sign_Recognition')\n",
    "from sklearn.model_selection import train_test_split\n",
    "from keras.utils import to_categorical\n",
    "from keras.models import Sequential, load_model\n",
    "from keras.layers import Conv2D, MaxPool2D, Dense, Flatten, Dropout"
   ]
  },
  {
   "cell_type": "code",
   "execution_count": 24,
   "id": "96149e16",
   "metadata": {},
   "outputs": [
    {
     "name": "stdout",
     "output_type": "stream",
     "text": [
      "0\n",
      "[[1.0000000e+00 2.8608843e-14 1.3980681e-21 6.6980646e-20 8.9461942e-20\n",
      "  2.1985958e-15 3.6655946e-18 1.4845049e-21 5.2211931e-21 2.4772573e-19\n",
      "  3.3888727e-22 1.5541182e-19 2.3922959e-11 9.5001700e-20 1.7455615e-21\n",
      "  4.3610263e-12 2.0974237e-14 1.8272492e-19 2.2803935e-12 1.3580666e-20\n",
      "  2.8439279e-13 3.5023796e-19 6.0369233e-13 2.0711635e-09 3.9539884e-16\n",
      "  1.0931615e-21 9.5646563e-17 8.5575526e-19 2.6260220e-21 1.3304390e-19\n",
      "  4.5350867e-12 6.7956356e-19 5.3199251e-15 3.1790491e-22 8.3460914e-27\n",
      "  3.9394070e-20]]\n",
      "0\n",
      "1.0\n"
     ]
    },
    {
     "data": {
      "image/png": "[encoded data removed]",
      "text/plain": [
       "<Figure size 432x288 with 1 Axes>"
      ]
     },
     "metadata": {
      "needs_background": "light"
     },
     "output_type": "display_data"
    }
   ],
   "source": [
    "img=cv2.imread(\"testing/0.jpg\")\n",
    "plt.imshow(img)\n",
    "gray=cv2.cvtColor(img,cv2.COLOR_BGR2GRAY) \n",
    "ret,gray=cv2.threshold(gray,120,255,cv2.THRESH_BINARY)\n",
    "resized=cv2.resize(gray,(128,128))\n",
    "newimg=resized/255.0\n",
    "newimg=np.array(newimg).reshape(-1,128,128,1)\n",
    "#newimg=newimg.reshape(-1,128,128,1)\n",
    "#newimg=newimg/255.0\n",
    "predictions=model.predict(newimg)\n",
    "pred = model.predict_classes([newimg])[0]\n",
    "print(pred)\n",
    "print(predictions)\n",
    "p=np.argmax(predictions)\n",
    "print(p)\n",
    "print(predictions[0][p])"
   ]
  },
  {
   "cell_type": "code",
   "execution_count": 23,
   "id": "3be45e9b",
   "metadata": {},
   "outputs": [],
   "source": [
    "from sklearn.model_selection import train_test_split\n",
    "from sklearn.neighbors import KNeighborsClassifier\n",
    "from sklearn import metrics"
   ]
  },
  {
   "cell_type": "markdown",
   "id": "96f0216d",
   "metadata": {},
   "source": [
    "# Random Forest Classifier"
   ]
  },
  {
   "cell_type": "code",
   "execution_count": 8,
   "id": "c096f0b5",
   "metadata": {},
   "outputs": [],
   "source": [
    "X_for_RF = model.predict(X_train) \n",
    "\n",
    "#RANDOM FOREST\n",
    "from sklearn.ensemble import RandomForestClassifier\n",
    "RF_model = RandomForestClassifier(n_estimators = 50, random_state = 42)"
   ]
  },
  {
   "cell_type": "code",
   "execution_count": 9,
   "id": "38293ef3",
   "metadata": {},
   "outputs": [
    {
     "data": {
      "text/plain": [
       "RandomForestClassifier(n_estimators=50, random_state=42)"
      ]
     },
     "execution_count": 9,
     "metadata": {},
     "output_type": "execute_result"
    }
   ],
   "source": [
    "RF_model.fit(X_for_RF, y_train)"
   ]
  },
  {
   "cell_type": "code",
   "execution_count": 10,
   "id": "aa22a218",
   "metadata": {},
   "outputs": [],
   "source": [
    "X_test_feature = model.predict(X_test) \n",
    "prediction_RF = RF_model.predict(X_test_feature)"
   ]
  },
  {
   "cell_type": "code",
   "execution_count": 11,
   "id": "4abcad7b",
   "metadata": {},
   "outputs": [
    {
     "name": "stdout",
     "output_type": "stream",
     "text": [
      "Accuracy =  0.9128540305010894\n"
     ]
    }
   ],
   "source": [
    "from sklearn import metrics\n",
    "print (\"Accuracy = \", metrics.accuracy_score(y_test, prediction_RF))"
   ]
  },
  {
   "cell_type": "markdown",
   "id": "cb97e309",
   "metadata": {},
   "source": [
    "# KNN Classifier"
   ]
  },
  {
   "cell_type": "code",
   "execution_count": 24,
   "id": "098d6f97",
   "metadata": {},
   "outputs": [],
   "source": [
    "X_for_knn = model.predict(X_train)\n",
    "from sklearn.neighbors import KNeighborsClassifier"
   ]
  },
  {
   "cell_type": "code",
   "execution_count": 25,
   "id": "c443c169",
   "metadata": {},
   "outputs": [],
   "source": [
    "knn_model=KNeighborsClassifier(n_neighbors = 7)"
   ]
  },
  {
   "cell_type": "code",
   "execution_count": 26,
   "id": "43b2830d",
   "metadata": {},
   "outputs": [
    {
     "data": {
      "text/plain": [
       "KNeighborsClassifier(n_neighbors=7)"
      ]
     },
     "execution_count": 26,
     "metadata": {},
     "output_type": "execute_result"
    }
   ],
   "source": [
    "knn_model.fit(X_for_knn, y_train)"
   ]
  },
  {
   "cell_type": "code",
   "execution_count": 27,
   "id": "f7cb9d6a",
   "metadata": {},
   "outputs": [],
   "source": [
    "X_test_feature = model.predict(X_test) \n",
    "prediction_knn = knn_model.predict(X_test_feature)"
   ]
  },
  {
   "cell_type": "code",
   "execution_count": 28,
   "id": "8c07665e",
   "metadata": {},
   "outputs": [
    {
     "name": "stdout",
     "output_type": "stream",
     "text": [
      "Accuracy =  0.9150326797385621\n"
     ]
    }
   ],
   "source": [
    "from sklearn import metrics\n",
    "print (\"Accuracy = \", metrics.accuracy_score(y_test, prediction_knn))"
   ]
  },
  {
   "cell_type": "markdown",
   "id": "17a69b04",
   "metadata": {},
   "source": [
    "# Decision Tree Classifier"
   ]
  },
  {
   "cell_type": "code",
   "execution_count": 46,
   "id": "73b77283",
   "metadata": {},
   "outputs": [],
   "source": [
    "from sklearn.metrics import accuracy_score"
   ]
  },
  {
   "cell_type": "code",
   "execution_count": 12,
   "id": "b9bebf30",
   "metadata": {},
   "outputs": [],
   "source": [
    "X_for_dt = model.predict(X_train)\n",
    "from sklearn.tree import DecisionTreeClassifier"
   ]
  },
  {
   "cell_type": "code",
   "execution_count": 13,
   "id": "e60e1237",
   "metadata": {},
   "outputs": [],
   "source": [
    "dt_model=DecisionTreeClassifier()"
   ]
  },
  {
   "cell_type": "code",
   "execution_count": 14,
   "id": "41f6dd3d",
   "metadata": {},
   "outputs": [
    {
     "data": {
      "text/plain": [
       "DecisionTreeClassifier()"
      ]
     },
     "execution_count": 14,
     "metadata": {},
     "output_type": "execute_result"
    }
   ],
   "source": [
    "dt_model.fit(X_for_dt, y_train)"
   ]
  },
  {
   "cell_type": "code",
   "execution_count": 15,
   "id": "efb18037",
   "metadata": {},
   "outputs": [],
   "source": [
    "X_test_feature = model.predict(X_test) \n",
    "prediction_dt = dt_model.predict(X_test_feature)"
   ]
  },
  {
   "cell_type": "code",
   "execution_count": 16,
   "id": "591bd516",
   "metadata": {},
   "outputs": [
    {
     "name": "stdout",
     "output_type": "stream",
     "text": [
      "Accuracy =  0.9139433551198257\n"
     ]
    }
   ],
   "source": [
    "from sklearn import metrics\n",
    "print (\"Accuracy = \", metrics.accuracy_score(y_test, prediction_dt))"
   ]
  },
  {
   "cell_type": "code",
   "execution_count": null,
   "id": "38e93a13",
   "metadata": {},
   "outputs": [],
   "source": []
  },
  {
   "cell_type": "code",
   "execution_count": 47,
   "id": "9c31cafa",
   "metadata": {},
   "outputs": [
    {
     "data": {
      "text/plain": [
       "(3668, 128, 128, 1)"
      ]
     },
     "execution_count": 47,
     "metadata": {},
     "output_type": "execute_result"
    }
   ],
   "source": [
    "X_train.shape"
   ]
  },
  {
   "cell_type": "code",
   "execution_count": 20,
   "id": "25e1e1fc",
   "metadata": {},
   "outputs": [],
   "source": [
    "model.save(\"sign_language_model.h5\")"
   ]
  },
  {
   "cell_type": "code",
   "execution_count": 33,
   "id": "e080ef3d",
   "metadata": {},
   "outputs": [],
   "source": [
    "import os\n",
    "import sys\n",
    "import tkinter as tk\n",
    "from tkinter import filedialog\n",
    "from tkinter import *\n",
    "from PIL import ImageTk, Image\n",
    "from PIL import Image, ImageOps\n",
    "import pickle\n",
    "import numpy"
   ]
  },
  {
   "cell_type": "code",
   "execution_count": 34,
   "id": "fcfbf4ce",
   "metadata": {},
   "outputs": [],
   "source": [
    "from keras.models import load_model\n",
    "model=load_model('sign_language_model.h5')"
   ]
  },
  {
   "cell_type": "code",
   "execution_count": 35,
   "id": "9d5daa53",
   "metadata": {},
   "outputs": [],
   "source": [
    "classes = {0: 'অ',\n",
    "           1: 'আ',\n",
    "           2: 'চ',\n",
    "           3: 'ছ',\n",
    "           4: 'জ',\n",
    "           5: 'ঝ',\n",
    "           6: 'ট',\n",
    "           7: 'ঠ',\n",
    "           8: 'ড',\n",
    "           9: 'ঢ',\n",
    "           10: 'ত',\n",
    "           11: 'থ',\n",
    "           12: 'ই',\n",
    "           13: 'দ',\n",
    "           14: 'ধ',\n",
    "           15: 'ন',\n",
    "           16: 'প',\n",
    "           17: 'ফ',\n",
    "           18: 'ব',\n",
    "           19: 'ভ',\n",
    "           20: 'ম',\n",
    "           21: 'য়',\n",
    "           22: 'র',\n",
    "           23: 'উ',\n",
    "           24: 'ল',\n",
    "           25: 'স',\n",
    "           26: 'হ',\n",
    "           27: 'ড়',\n",
    "           28: 'ং',\n",
    "           29: 'ঃ',\n",
    "           30: 'এ',\n",
    "           31: 'ও',\n",
    "           32: 'ক',\n",
    "           33: 'খ',\n",
    "           34: 'গ',\n",
    "           35: 'ঘ'\n",
    "           }"
   ]
  },
  {
   "cell_type": "code",
   "execution_count": 36,
   "id": "3452ebcb",
   "metadata": {},
   "outputs": [],
   "source": [
    "top = tk.Tk()\n",
    "top.geometry('1500x900')\n",
    "top.title('Sign language Predictor')\n",
    "top.configure(background='#CDCDCD')\n",
    "\n",
    "label = Label(top, background='#CDCDCD', font=('arial', 18, 'bold'))\n",
    "sign_image = Label(top)"
   ]
  },
  {
   "cell_type": "code",
   "execution_count": 37,
   "id": "b1bdc1b1",
   "metadata": {},
   "outputs": [],
   "source": [
    "file_path='E:/project/jahid/our_final_project/digit/testing2'\n",
    "\n",
    "def classify(file_path):\n",
    "\tglobal label_packed\n",
    "\timage = cv2.imread(file_path)\n",
    "\tgray=cv2.cvtColor(image,cv2.COLOR_BGR2GRAY) \n",
    "\tret,gray=cv2.threshold(gray,120,255,cv2.THRESH_BINARY)\n",
    "\tresized=cv2.resize(gray,(128,128))\n",
    "#\tnewimg=tf.keras.utils.normalize(resized,axis=1)\n",
    "\tnewimg=resized/255.0\n",
    "\tnewimg=np.array(newimg).reshape(-1,128,128,1)\n",
    "\tpredictions=model.predict(newimg)\n",
    "\ts=np.argmax(predictions)\n",
    "\tsign=classes[s]  \n",
    "\ts1=predictions[0][s]\n",
    "\tprint(s1) \n",
    "#\tlabel.configure(foreground='#364196', text=s1)\n",
    "\t#print(np.argmax(predictions))\n",
    "\tprint(sign)  \n",
    "#\tlabel.configure(foreground='#364196', text=s1)\n",
    "\tlabel.configure(foreground='#364196', text=sign)"
   ]
  },
  {
   "cell_type": "code",
   "execution_count": 38,
   "id": "0619eb99",
   "metadata": {},
   "outputs": [],
   "source": [
    "def show_classify_button(file_path):\n",
    "\tclassify_b = Button(top, text=\"Classify Image\", command=lambda: classify(file_path), padx=10, pady=5)\n",
    "\tclassify_b.configure(background='#364196', foreground='white', font=('arial', 10, 'bold'))\n",
    "\tclassify_b.place(relx=0.79, rely=0.46)"
   ]
  },
  {
   "cell_type": "code",
   "execution_count": 39,
   "id": "5bc49f59",
   "metadata": {},
   "outputs": [],
   "source": [
    "\n",
    "def upload_image():\n",
    "\ttry:\n",
    "\t\tfile_path = filedialog.askopenfilename()\n",
    "\t\tuploaded = Image.open(file_path)\n",
    "\t\tuploaded.thumbnail(((top.winfo_width() / 2.25), (top.winfo_height() / 2.25)))\n",
    "\t\tim = ImageTk.PhotoImage(uploaded)\n",
    "\n",
    "\t\tsign_image.configure(image=im)\n",
    "\t\tsign_image.image = im\n",
    "\t\tlabel.configure(text='')\n",
    "\t\tshow_classify_button(file_path)\n",
    "\texcept:\n",
    "\t\tpass"
   ]
  },
  {
   "cell_type": "code",
   "execution_count": 40,
   "id": "37a4f5ec",
   "metadata": {},
   "outputs": [
    {
     "name": "stdout",
     "output_type": "stream",
     "text": [
      "WARNING:tensorflow:7 out of the last 10 calls to <function Model.make_predict_function.<locals>.predict_function at 0x000001F3C7269A60> triggered tf.function retracing. Tracing is expensive and the excessive number of tracings could be due to (1) creating @tf.function repeatedly in a loop, (2) passing tensors with different shapes, (3) passing Python objects instead of tensors. For (1), please define your @tf.function outside of the loop. For (2), @tf.function has experimental_relax_shapes=True option that relaxes argument shapes that can avoid unnecessary retracing. For (3), please refer to https://www.tensorflow.org/tutorials/customization/performance#python_or_tensor_args and https://www.tensorflow.org/api_docs/python/tf/function for  more details.\n",
      "0.99753857\n",
      "ক\n"
     ]
    }
   ],
   "source": [
    "upload = Button(top, text=\"Upload a sign language image\", command=upload_image, padx=10, pady=5)\n",
    "upload.configure(background='#364196', foreground='white', font=('arial', 10, 'bold'))\n",
    "\n",
    "upload.pack(side=BOTTOM, pady=70)\n",
    "sign_image.pack(side=BOTTOM, expand=True)\n",
    "label.pack(side=BOTTOM, expand=True)\n",
    "heading = Label(top, text=\"Predict Your sign language\", pady=40, font=('Times New Roman', 25, 'bold'))\n",
    "heading.configure(background='#CDCDCD', foreground='#364196')\n",
    "heading.pack()\n",
    "top.mainloop()"
   ]
  },
  {
   "cell_type": "code",
   "execution_count": null,
   "id": "da667064",
   "metadata": {},
   "outputs": [],
   "source": []
  },
  {
   "cell_type": "code",
   "execution_count": null,
   "id": "7183cfdf",
   "metadata": {},
   "outputs": [],
   "source": []
  }
 ],
 "metadata": {
  "kernelspec": {
   "display_name": "Python 3",
   "language": "python",
   "name": "python3"
  },
  "language_info": {
   "codemirror_mode": {
    "name": "ipython",
    "version": 3
   },
   "file_extension": ".py",
   "mimetype": "text/x-python",
   "name": "python",
   "nbconvert_exporter": "python",
   "pygments_lexer": "ipython3",
   "version": "3.8.8"
  }
 },
 "nbformat": 4,
 "nbformat_minor": 5
}
